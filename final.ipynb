{
 "cells": [
  {
   "cell_type": "markdown",
   "metadata": {},
   "source": [
    "# LOAN DATA PREDICTION\n"
   ]
  },
  {
   "cell_type": "code",
   "execution_count": 1,
   "metadata": {},
   "outputs": [
    {
     "name": "stderr",
     "output_type": "stream",
     "text": [
      "C:\\Users\\Pakhi\\Anaconda3\\lib\\site-packages\\sklearn\\cross_validation.py:44: DeprecationWarning: This module was deprecated in version 0.18 in favor of the model_selection module into which all the refactored classes and functions are moved. Also note that the interface of the new CV iterators are different from that of this module. This module will be removed in 0.20.\n",
      "  \"This module will be removed in 0.20.\", DeprecationWarning)\n"
     ]
    }
   ],
   "source": [
    "# Importing supporting libraries\n",
    "# Current environment - Python 3\n",
    "\n",
    "# For algebra\n",
    "import numpy as np \n",
    "\n",
    "# For data(csv file) reading, processing and dataframe manipulation\n",
    "# also for using datetime functionality \n",
    "import pandas as pd\n",
    "\n",
    "# For decent presentation\n",
    "from termcolor import colored\n",
    " \n",
    "# For plotting and visualizing the graph\n",
    "import matplotlib.pyplot as plt\n",
    "import seaborn as sns\n",
    "%matplotlib inline\n",
    "\n",
    "# # lets you ZOOM IN/OUT the images \n",
    "# # due to introduction of this library each plotting will have prominant axes\n",
    "# import mpld3\n",
    "# mpld3.enable_notebook()\n",
    "\n",
    "# For label encoding\n",
    "from sklearn import preprocessing\n",
    "\n",
    "\n",
    "\n",
    "# FOR PREDICTION OR MODEL PREPARATION PURPOSES\n",
    "# Splits dataset to test train portion according to given split rate\n",
    "from sklearn.cross_validation import train_test_split\n",
    "\n",
    "# For Decision Tree Classifier Model\n",
    "from sklearn.tree import DecisionTreeClassifier\n",
    "\n",
    "# For Random Forest Classifier Model\n",
    "from sklearn.ensemble import RandomForestClassifier\n",
    "\n",
    "# For K Nearest Neighbours\n",
    "from sklearn.neighbors import KNeighborsClassifier\n",
    "\n",
    "# For SVC classifier\n",
    "from sklearn.svm import SVC\n",
    "\n",
    "# For Classification Report\n",
    "from sklearn.metrics import classification_report\n",
    "\n",
    "# For Confusion Matrix\n",
    "from sklearn.metrics import confusion_matrix\n",
    "\n",
    "# For Score Evaluation\n",
    "from sklearn.model_selection import cross_val_score\n"
   ]
  },
  {
   "cell_type": "markdown",
   "metadata": {},
   "source": [
    "# Loading and Exploring the Loan Dataset\n",
    "\n"
   ]
  },
  {
   "cell_type": "markdown",
   "metadata": {},
   "source": [
    "# ABOUT THE DATASET\n",
    "## Dataset Context: \n",
    "This dataset includes customers who have paid off their loans, who have been past due and put into the collection without paying back their loan and interests, and who have paid off only after they were put in the collection. The financial product is a bullet loan that customers should pay off all of their loan debt in just one time by the end of the term, instead of an installment schedule. Of course, they could pay off earlier than their pay schedule.\n",
    "\n",
    "## Dataset Column Details:\n",
    "1. Loan_id: A unique loan number assigned to each loan customers\n",
    "2. Loan_status: Whether a loan is paid off, in collection, new customer yet to pay off, or paid off after the collection efforts\n",
    "3. Principal Basic: principal loan amount at the origination\n",
    "4. terms: Can be weekly (7 days), biweekly, and monthly payoff schedule\n",
    "5. Effective_date: When the loan got originated and took effects\n",
    "6. Due_date: Since it’s one-time payoff schedule, each loan has one single due date\n",
    "7. Paidoff_time: The actual time a customer pays off the loan\n",
    "8. Pastdue_days: How many days a loan has been past due\n",
    "9. Age, education, gender: A customer’s basic demographic information"
   ]
  },
  {
   "cell_type": "code",
   "execution_count": null,
   "metadata": {
    "collapsed": true
   },
   "outputs": [],
   "source": []
  },
  {
   "cell_type": "code",
   "execution_count": 2,
   "metadata": {},
   "outputs": [
    {
     "data": {
      "text/html": [
       "<div>\n",
       "<style>\n",
       "    .dataframe thead tr:only-child th {\n",
       "        text-align: right;\n",
       "    }\n",
       "\n",
       "    .dataframe thead th {\n",
       "        text-align: left;\n",
       "    }\n",
       "\n",
       "    .dataframe tbody tr th {\n",
       "        vertical-align: top;\n",
       "    }\n",
       "</style>\n",
       "<table border=\"1\" class=\"dataframe\">\n",
       "  <thead>\n",
       "    <tr style=\"text-align: right;\">\n",
       "      <th></th>\n",
       "      <th>Loan_ID</th>\n",
       "      <th>loan_status</th>\n",
       "      <th>Principal</th>\n",
       "      <th>terms</th>\n",
       "      <th>effective_date</th>\n",
       "      <th>due_date</th>\n",
       "      <th>paid_off_time</th>\n",
       "      <th>past_due_days</th>\n",
       "      <th>age</th>\n",
       "      <th>education</th>\n",
       "      <th>Gender</th>\n",
       "    </tr>\n",
       "  </thead>\n",
       "  <tbody>\n",
       "    <tr>\n",
       "      <th>0</th>\n",
       "      <td>xqd20166231</td>\n",
       "      <td>PAIDOFF</td>\n",
       "      <td>1000</td>\n",
       "      <td>30</td>\n",
       "      <td>09/08/16</td>\n",
       "      <td>10/07/16</td>\n",
       "      <td>9/14/2016 19:31</td>\n",
       "      <td>NaN</td>\n",
       "      <td>45</td>\n",
       "      <td>High School or Below</td>\n",
       "      <td>male</td>\n",
       "    </tr>\n",
       "    <tr>\n",
       "      <th>1</th>\n",
       "      <td>xqd20168902</td>\n",
       "      <td>PAIDOFF</td>\n",
       "      <td>1000</td>\n",
       "      <td>30</td>\n",
       "      <td>09/08/16</td>\n",
       "      <td>10/07/16</td>\n",
       "      <td>10/07/16 9:00</td>\n",
       "      <td>NaN</td>\n",
       "      <td>50</td>\n",
       "      <td>Bechalor</td>\n",
       "      <td>female</td>\n",
       "    </tr>\n",
       "    <tr>\n",
       "      <th>2</th>\n",
       "      <td>xqd20160003</td>\n",
       "      <td>PAIDOFF</td>\n",
       "      <td>1000</td>\n",
       "      <td>30</td>\n",
       "      <td>09/08/16</td>\n",
       "      <td>10/07/16</td>\n",
       "      <td>9/25/2016 16:58</td>\n",
       "      <td>NaN</td>\n",
       "      <td>33</td>\n",
       "      <td>Bechalor</td>\n",
       "      <td>female</td>\n",
       "    </tr>\n",
       "    <tr>\n",
       "      <th>3</th>\n",
       "      <td>xqd20160004</td>\n",
       "      <td>PAIDOFF</td>\n",
       "      <td>1000</td>\n",
       "      <td>15</td>\n",
       "      <td>09/08/16</td>\n",
       "      <td>9/22/2016</td>\n",
       "      <td>9/22/2016 20:00</td>\n",
       "      <td>NaN</td>\n",
       "      <td>27</td>\n",
       "      <td>college</td>\n",
       "      <td>male</td>\n",
       "    </tr>\n",
       "    <tr>\n",
       "      <th>4</th>\n",
       "      <td>xqd20160005</td>\n",
       "      <td>PAIDOFF</td>\n",
       "      <td>1000</td>\n",
       "      <td>30</td>\n",
       "      <td>09/09/16</td>\n",
       "      <td>10/08/16</td>\n",
       "      <td>9/23/2016 21:36</td>\n",
       "      <td>NaN</td>\n",
       "      <td>28</td>\n",
       "      <td>college</td>\n",
       "      <td>female</td>\n",
       "    </tr>\n",
       "  </tbody>\n",
       "</table>\n",
       "</div>"
      ],
      "text/plain": [
       "       Loan_ID loan_status  Principal  terms effective_date   due_date  \\\n",
       "0  xqd20166231     PAIDOFF       1000     30       09/08/16   10/07/16   \n",
       "1  xqd20168902     PAIDOFF       1000     30       09/08/16   10/07/16   \n",
       "2  xqd20160003     PAIDOFF       1000     30       09/08/16   10/07/16   \n",
       "3  xqd20160004     PAIDOFF       1000     15       09/08/16  9/22/2016   \n",
       "4  xqd20160005     PAIDOFF       1000     30       09/09/16   10/08/16   \n",
       "\n",
       "     paid_off_time  past_due_days  age             education  Gender  \n",
       "0  9/14/2016 19:31            NaN   45  High School or Below    male  \n",
       "1    10/07/16 9:00            NaN   50              Bechalor  female  \n",
       "2  9/25/2016 16:58            NaN   33              Bechalor  female  \n",
       "3  9/22/2016 20:00            NaN   27               college    male  \n",
       "4  9/23/2016 21:36            NaN   28               college  female  "
      ]
     },
     "execution_count": 2,
     "metadata": {},
     "output_type": "execute_result"
    }
   ],
   "source": [
    "# Untouched data\n",
    "orig_data = pd.read_csv('Loan payments data.csv')\n",
    "# all the alterations will be done in this\n",
    "data = orig_data.copy() \n",
    "\n",
    "data.head() "
   ]
  },
  {
   "cell_type": "markdown",
   "metadata": {},
   "source": [
    "#### FEATURES OF THE LOAN DATASET"
   ]
  },
  {
   "cell_type": "code",
   "execution_count": 3,
   "metadata": {},
   "outputs": [
    {
     "name": "stdout",
     "output_type": "stream",
     "text": [
      "\u001b[4m\u001b[1m\u001b[31mFEATURES OF THE LOAN DATASET:\u001b[0m\n",
      "\u001b[1m1\u001b[0m Loan_ID\n",
      "\u001b[1m2\u001b[0m loan_status\n",
      "\u001b[1m3\u001b[0m Principal\n",
      "\u001b[1m4\u001b[0m terms\n",
      "\u001b[1m5\u001b[0m effective_date\n",
      "\u001b[1m6\u001b[0m due_date\n",
      "\u001b[1m7\u001b[0m paid_off_time\n",
      "\u001b[1m8\u001b[0m past_due_days\n",
      "\u001b[1m9\u001b[0m age\n",
      "\u001b[1m10\u001b[0m education\n",
      "\u001b[1m11\u001b[0m Gender\n"
     ]
    }
   ],
   "source": [
    "# printing the features in a list format for better understanding\n",
    "print(colored(\"FEATURES OF THE LOAN DATASET:\",'red',attrs=['bold','underline']))\n",
    "\n",
    "for i in range(len(data.columns)):\n",
    "               print(colored(i+1, attrs=['bold']), data.columns[i])"
   ]
  },
  {
   "cell_type": "markdown",
   "metadata": {},
   "source": [
    "#### DESCRIPTION OF DATASET"
   ]
  },
  {
   "cell_type": "code",
   "execution_count": 4,
   "metadata": {},
   "outputs": [
    {
     "name": "stdout",
     "output_type": "stream",
     "text": [
      "\u001b[1m\u001b[31mSHAPE OF DATASET:\u001b[0m 454 X 11\n",
      "\u001b[4m\u001b[1m\u001b[31m\n",
      "DESCRIPTION OF DATASET:\u001b[0m\n"
     ]
    },
    {
     "data": {
      "text/html": [
       "<div>\n",
       "<style>\n",
       "    .dataframe thead tr:only-child th {\n",
       "        text-align: right;\n",
       "    }\n",
       "\n",
       "    .dataframe thead th {\n",
       "        text-align: left;\n",
       "    }\n",
       "\n",
       "    .dataframe tbody tr th {\n",
       "        vertical-align: top;\n",
       "    }\n",
       "</style>\n",
       "<table border=\"1\" class=\"dataframe\">\n",
       "  <thead>\n",
       "    <tr style=\"text-align: right;\">\n",
       "      <th></th>\n",
       "      <th>Principal</th>\n",
       "      <th>terms</th>\n",
       "      <th>past_due_days</th>\n",
       "      <th>age</th>\n",
       "    </tr>\n",
       "  </thead>\n",
       "  <tbody>\n",
       "    <tr>\n",
       "      <th>count</th>\n",
       "      <td>454.000000</td>\n",
       "      <td>454.000000</td>\n",
       "      <td>170.000000</td>\n",
       "      <td>454.000000</td>\n",
       "    </tr>\n",
       "    <tr>\n",
       "      <th>mean</th>\n",
       "      <td>940.969163</td>\n",
       "      <td>22.625551</td>\n",
       "      <td>36.341176</td>\n",
       "      <td>30.973568</td>\n",
       "    </tr>\n",
       "    <tr>\n",
       "      <th>std</th>\n",
       "      <td>118.284029</td>\n",
       "      <td>8.055320</td>\n",
       "      <td>29.557507</td>\n",
       "      <td>6.103537</td>\n",
       "    </tr>\n",
       "    <tr>\n",
       "      <th>min</th>\n",
       "      <td>300.000000</td>\n",
       "      <td>7.000000</td>\n",
       "      <td>1.000000</td>\n",
       "      <td>18.000000</td>\n",
       "    </tr>\n",
       "    <tr>\n",
       "      <th>25%</th>\n",
       "      <td>900.000000</td>\n",
       "      <td>15.000000</td>\n",
       "      <td>3.000000</td>\n",
       "      <td>26.000000</td>\n",
       "    </tr>\n",
       "    <tr>\n",
       "      <th>50%</th>\n",
       "      <td>1000.000000</td>\n",
       "      <td>30.000000</td>\n",
       "      <td>44.000000</td>\n",
       "      <td>30.000000</td>\n",
       "    </tr>\n",
       "    <tr>\n",
       "      <th>75%</th>\n",
       "      <td>1000.000000</td>\n",
       "      <td>30.000000</td>\n",
       "      <td>60.000000</td>\n",
       "      <td>35.000000</td>\n",
       "    </tr>\n",
       "    <tr>\n",
       "      <th>max</th>\n",
       "      <td>1000.000000</td>\n",
       "      <td>30.000000</td>\n",
       "      <td>76.000000</td>\n",
       "      <td>51.000000</td>\n",
       "    </tr>\n",
       "  </tbody>\n",
       "</table>\n",
       "</div>"
      ],
      "text/plain": [
       "         Principal       terms  past_due_days         age\n",
       "count   454.000000  454.000000     170.000000  454.000000\n",
       "mean    940.969163   22.625551      36.341176   30.973568\n",
       "std     118.284029    8.055320      29.557507    6.103537\n",
       "min     300.000000    7.000000       1.000000   18.000000\n",
       "25%     900.000000   15.000000       3.000000   26.000000\n",
       "50%    1000.000000   30.000000      44.000000   30.000000\n",
       "75%    1000.000000   30.000000      60.000000   35.000000\n",
       "max    1000.000000   30.000000      76.000000   51.000000"
      ]
     },
     "execution_count": 4,
     "metadata": {},
     "output_type": "execute_result"
    }
   ],
   "source": [
    "print(colored(\"SHAPE OF DATASET:\",'red',attrs=['bold']), data.shape[0], \"X\",data.shape[1] )\n",
    "print(colored(\"\\nDESCRIPTION OF DATASET:\",'red',attrs=['bold','underline']))\n",
    "data.describe()"
   ]
  },
  {
   "cell_type": "markdown",
   "metadata": {},
   "source": [
    "#### INFORMATION ABOUT LOAN DATASET"
   ]
  },
  {
   "cell_type": "code",
   "execution_count": 5,
   "metadata": {},
   "outputs": [
    {
     "name": "stdout",
     "output_type": "stream",
     "text": [
      "\u001b[4m\u001b[1m\u001b[31mINFORMATION ABOUT LOAN DATASET:\u001b[0m\n",
      "<class 'pandas.core.frame.DataFrame'>\n",
      "RangeIndex: 454 entries, 0 to 453\n",
      "Data columns (total 11 columns):\n",
      "Loan_ID           454 non-null object\n",
      "loan_status       454 non-null object\n",
      "Principal         454 non-null int64\n",
      "terms             454 non-null int64\n",
      "effective_date    454 non-null object\n",
      "due_date          454 non-null object\n",
      "paid_off_time     369 non-null object\n",
      "past_due_days     170 non-null float64\n",
      "age               454 non-null int64\n",
      "education         454 non-null object\n",
      "Gender            454 non-null object\n",
      "dtypes: float64(1), int64(3), object(7)\n",
      "memory usage: 39.1+ KB\n"
     ]
    }
   ],
   "source": [
    "# getting information about loan dataset\n",
    "print(colored(\"INFORMATION ABOUT LOAN DATASET:\",'red',attrs=['bold','underline']))\n",
    "data.info()"
   ]
  },
  {
   "cell_type": "markdown",
   "metadata": {},
   "source": [
    "#### NULL VALUE DESCRIPTION"
   ]
  },
  {
   "cell_type": "code",
   "execution_count": 6,
   "metadata": {},
   "outputs": [
    {
     "name": "stdout",
     "output_type": "stream",
     "text": [
      "\u001b[4m\u001b[1m\u001b[31mNULL VALUE DESCRIPTION:\u001b[0m\n"
     ]
    },
    {
     "data": {
      "text/plain": [
       "Loan_ID             0\n",
       "loan_status         0\n",
       "Principal           0\n",
       "terms               0\n",
       "effective_date      0\n",
       "due_date            0\n",
       "paid_off_time      85\n",
       "past_due_days     284\n",
       "age                 0\n",
       "education           0\n",
       "Gender              0\n",
       "dtype: int64"
      ]
     },
     "execution_count": 6,
     "metadata": {},
     "output_type": "execute_result"
    }
   ],
   "source": [
    "print(colored(\"NULL VALUE DESCRIPTION:\",'red',attrs=['bold','underline']))\n",
    "data.isnull().sum()"
   ]
  },
  {
   "cell_type": "markdown",
   "metadata": {},
   "source": [
    "### Take Away:\n",
    "* From the above information it is clear that out of 454 total enteries, 2 features including paid_off_time and past_due_days have missing values."
   ]
  },
  {
   "cell_type": "markdown",
   "metadata": {},
   "source": [
    "#### CALCULATING MISSING VALUE PERCENTAGE"
   ]
  },
  {
   "cell_type": "code",
   "execution_count": 7,
   "metadata": {},
   "outputs": [
    {
     "data": {
      "text/html": [
       "<div>\n",
       "<style>\n",
       "    .dataframe thead tr:only-child th {\n",
       "        text-align: right;\n",
       "    }\n",
       "\n",
       "    .dataframe thead th {\n",
       "        text-align: left;\n",
       "    }\n",
       "\n",
       "    .dataframe tbody tr th {\n",
       "        vertical-align: top;\n",
       "    }\n",
       "</style>\n",
       "<table border=\"1\" class=\"dataframe\">\n",
       "  <thead>\n",
       "    <tr style=\"text-align: right;\">\n",
       "      <th></th>\n",
       "      <th>Feature name</th>\n",
       "      <th>Missing Value Percentage</th>\n",
       "      <th>Total null values</th>\n",
       "    </tr>\n",
       "  </thead>\n",
       "  <tbody>\n",
       "    <tr>\n",
       "      <th>0</th>\n",
       "      <td>paid_off_time</td>\n",
       "      <td>62.555066</td>\n",
       "      <td>284</td>\n",
       "    </tr>\n",
       "    <tr>\n",
       "      <th>1</th>\n",
       "      <td>paid_off_days</td>\n",
       "      <td>18.722467</td>\n",
       "      <td>85</td>\n",
       "    </tr>\n",
       "  </tbody>\n",
       "</table>\n",
       "</div>"
      ],
      "text/plain": [
       "    Feature name  Missing Value Percentage  Total null values\n",
       "0  paid_off_time                 62.555066                284\n",
       "1  paid_off_days                 18.722467                 85"
      ]
     },
     "execution_count": 7,
     "metadata": {},
     "output_type": "execute_result"
    }
   ],
   "source": [
    "## Finding null values if exists in any column of the dataset\n",
    "null_values = []\n",
    "missing_per = []\n",
    "\n",
    "for i in range(len(data.columns)):\n",
    "    current_feature = data[ data.columns[i] ]\n",
    "    \n",
    "    if  (current_feature.isnull().values.any()):        \n",
    "        sum_of_null_values = current_feature.isnull().sum()      \n",
    "        null_value_percentage = (sum_of_null_values/len(current_feature))*100  \n",
    "#         print(sum_of_null_values)\n",
    "        \n",
    "        null_values.append(sum_of_null_values)\n",
    "        missing_per.append(null_value_percentage)\n",
    "    \n",
    "null_values = list(set(null_values))\n",
    "missing_per = list(set(missing_per))\n",
    "\n",
    "models = pd.DataFrame({\n",
    "        'Feature name'  : ['paid_off_time', 'paid_off_days'],\n",
    "        'Total null values'  : [null_values[0], null_values[1]],\n",
    "        'Missing Value Percentage' :[missing_per[1], missing_per[0]] })\n",
    "models.sort_values(by='Total null values', ascending=False)"
   ]
  },
  {
   "cell_type": "markdown",
   "metadata": {},
   "source": [
    "#### Note:\n",
    "Since, the percentage of missing values is quite considerable especially for past_due_days feature, we should test and try how its removal might affect the accuracy of the intended prediction which will be studied in further sections."
   ]
  },
  {
   "cell_type": "markdown",
   "metadata": {},
   "source": [
    "#### Checking Unique Values For Each Column"
   ]
  },
  {
   "cell_type": "code",
   "execution_count": 8,
   "metadata": {},
   "outputs": [
    {
     "name": "stdout",
     "output_type": "stream",
     "text": [
      "\u001b[4m\u001b[1m\u001b[32mUNIQUE VALUES OF EACH ATTRIBUTE OF DATASET:\u001b[0m\n",
      "\u001b[1m\u001b[31m1\u001b[0m \u001b[1m\u001b[31mloan_status\u001b[0m ['PAIDOFF' 'COLLECTION' 'COLLECTION_PAIDOFF'] \n",
      "\n",
      "\u001b[1m\u001b[31m2\u001b[0m \u001b[1m\u001b[31mPrincipal\u001b[0m [1000  300  800  900  700  500] \n",
      "\n",
      "\u001b[1m\u001b[31m3\u001b[0m \u001b[1m\u001b[31mterms\u001b[0m [30 15  7] \n",
      "\n",
      "\u001b[1m\u001b[31m4\u001b[0m \u001b[1m\u001b[31meffective_date\u001b[0m ['09/08/16' '09/09/16' '09/10/16' '09/11/16' '09/12/16' '9/13/2016'\n",
      " '9/14/2016'] \n",
      "\n",
      "\u001b[1m\u001b[31m5\u001b[0m \u001b[1m\u001b[31mdue_date\u001b[0m ['10/07/16' '9/22/2016' '10/08/16' '9/15/2016' '9/24/2016' '9/16/2016'\n",
      " '10/09/16' '10/10/16' '9/25/2016' '9/17/2016' '11/09/16' '10/25/2016'\n",
      " '9/18/2016' '9/26/2016' '10/26/2016' '10/11/16' '11/10/16' '9/19/2016'\n",
      " '10/12/16' '9/27/2016' '9/28/2016' '10/13/2016' '11/12/16' '9/23/2016'\n",
      " '11/07/16'] \n",
      "\n",
      "\u001b[1m\u001b[31m6\u001b[0m \u001b[1m\u001b[31mpaid_off_time\u001b[0m ['9/14/2016 19:31' '10/07/16 9:00' '9/25/2016 16:58' '9/22/2016 20:00'\n",
      " '9/23/2016 21:36' '09/09/16 13:45' '10/07/16 23:07' '10/05/16 20:33'\n",
      " '10/08/16 16:00' '9/24/2016 13:00' '09/11/16 19:11' '10/09/16 16:00'\n",
      " '10/07/16 23:32' '9/13/2016 21:57' '9/15/2016 14:27' '9/24/2016 16:00'\n",
      " '9/27/2016 14:21' '9/23/2016 18:49' '10/05/16 22:05' '9/23/2016 7:42'\n",
      " '10/09/16 9:00' '10/08/16 17:09' '10/09/16 23:00' '10/03/16 12:50'\n",
      " '9/29/2016 12:18' '9/21/2016 20:16' '9/23/2016 8:21' '9/22/2016 19:17'\n",
      " '10/09/16 17:33' '9/24/2016 14:41' '10/07/16 21:48' '10/09/16 17:44'\n",
      " '10/09/16 7:24' '9/25/2016 21:49' '9/25/2016 9:00' '10/10/16 16:00'\n",
      " '9/25/2016 13:00' '10/10/16 11:33' '9/25/2016 14:36' '9/24/2016 9:00'\n",
      " '9/20/2016 15:00' '9/21/2016 22:29' '09/12/16 22:17' '10/08/16 14:14'\n",
      " '10/09/16 8:53' '10/10/16 9:00' '9/25/2016 19:21' '9/13/2016 4:34'\n",
      " '9/25/2016 16:00' '10/07/16 2:33' '9/24/2016 11:40' '9/22/2016 6:38'\n",
      " '9/30/2016 21:12' '9/24/2016 13:42' '10/08/16 7:25' '09/12/16 11:40'\n",
      " '9/25/2016 14:38' '9/25/2016 23:00' '10/08/16 12:04' '9/14/2016 22:05'\n",
      " '9/24/2016 13:27' '9/22/2016 21:18' '9/24/2016 22:53' '10/08/16 13:12'\n",
      " '10/09/16 13:49' '9/30/2016 14:29' '9/21/2016 16:18' '9/13/2016 14:53'\n",
      " '10/10/16 13:00' '11/09/16 9:00' '9/17/2016 13:01' '9/21/2016 9:35'\n",
      " '9/24/2016 20:33' '9/17/2016 9:00' '9/24/2016 0:12' '9/21/2016 12:43'\n",
      " '10/08/16 20:49' '9/20/2016 5:38' '10/10/16 9:01' '10/08/16 16:55'\n",
      " '9/25/2016 23:48' '9/22/2016 13:15' '9/23/2016 13:31' '10/08/16 17:19'\n",
      " '10/09/16 13:05' '9/20/2016 20:47' '10/10/16 13:01' '10/08/16 21:39'\n",
      " '10/07/16 14:23' '10/06/16 15:25' '10/08/16 6:56' '9/16/2016 11:58'\n",
      " '10/10/16 16:01' '9/27/2016 7:02' '10/25/2016 9:00' '9/24/2016 11:02'\n",
      " '9/29/2016 18:57' '9/25/2016 12:24' '9/26/2016 4:41' '9/22/2016 15:44'\n",
      " '10/10/16 16:13' '9/30/2016 7:12' '9/23/2016 11:26' '09/12/16 10:26'\n",
      " '9/22/2016 21:45' '10/09/16 20:28' '10/01/16 16:48' '9/25/2016 9:01'\n",
      " '9/15/2016 20:36' '9/21/2016 15:33' '9/29/2016 13:36' '9/22/2016 20:51'\n",
      " '11/09/16 23:00' '9/18/2016 9:00' '9/26/2016 9:00' '9/24/2016 10:14'\n",
      " '10/26/2016 9:00' '9/23/2016 20:30' '9/13/2016 20:17' '10/10/16 7:01'\n",
      " '10/11/16 13:00' '9/24/2016 14:55' '9/25/2016 20:56' '9/22/2016 10:49'\n",
      " '9/25/2016 22:09' '10/11/16 9:00' '9/26/2016 19:33' '11/10/16 16:00'\n",
      " '10/11/16 16:00' '9/26/2016 13:00' '9/26/2016 16:00' '9/17/2016 7:39'\n",
      " '9/22/2016 10:30' '10/10/16 20:41' '10/10/16 8:04' '9/24/2016 11:00'\n",
      " '9/17/2016 9:25' '10/07/16 11:53' '9/25/2016 8:39' '10/10/16 20:28'\n",
      " '10/01/16 10:18' '9/19/2016 21:07' '9/30/2016 14:38' '9/14/2016 20:31'\n",
      " '9/24/2016 16:15' '10/10/16 15:49' '11/10/16 13:00' '9/23/2016 10:32'\n",
      " '9/30/2016 14:03' '10/09/16 14:17' '9/20/2016 8:26' '10/11/16 23:00'\n",
      " '9/24/2016 20:47' '10/11/16 9:01' '9/16/2016 14:52' '10/09/16 10:00'\n",
      " '09/12/16 14:40' '9/23/2016 21:58' '10/08/16 18:48' '10/10/16 16:41'\n",
      " '10/11/16 13:01' '9/16/2016 2:34' '9/21/2016 8:11' '9/26/2016 23:00'\n",
      " '9/23/2016 14:01' '9/25/2016 13:29' '9/25/2016 14:50' '10/08/16 15:35'\n",
      " '10/11/16 16:01' '9/26/2016 19:35' '10/09/16 21:28' '10/07/16 16:45'\n",
      " '9/24/2016 12:13' '9/14/2016 23:02' '10/08/16 11:03' '9/25/2016 19:31'\n",
      " '9/14/2016 19:48' '10/12/16 23:00' '9/25/2016 12:48' '9/26/2016 21:18'\n",
      " '10/07/16 10:22' '9/26/2016 6:17' '9/22/2016 16:57' '10/09/16 21:57'\n",
      " '10/04/16 12:59' '9/17/2016 20:51' '10/08/16 15:51' '9/27/2016 9:00'\n",
      " '9/16/2016 15:57' '10/12/16 9:00' '9/26/2016 7:48' '9/21/2016 16:53'\n",
      " '10/11/16 0:29' '9/25/2016 10:37' '9/27/2016 13:00' '9/26/2016 15:10'\n",
      " '9/24/2016 12:46' '9/28/2016 9:00' '10/13/2016 9:00' '10/06/16 12:09'\n",
      " '10/14/2016 11:03' '10/08/16 17:12' '11/12/16 9:00' '10/13/2016 13:00'\n",
      " '9/27/2016 15:52' '9/28/2016 13:00' '9/15/2016 0:43' '10/10/16 10:25'\n",
      " '9/27/2016 20:41' '10/06/16 6:51' '10/12/16 6:25' nan '10/10/16 11:45'\n",
      " '9/27/2016 17:00' '11/20/2016 14:10' '9/28/2016 15:38' '9/26/2016 17:22'\n",
      " '10/21/2016 14:00' '9/26/2016 11:03' '11/05/16 15:39' '11/22/2016 15:53'\n",
      " '9/29/2016 10:30' '10/10/16 15:18' '11/05/16 10:49' '9/27/2016 17:10'\n",
      " '9/26/2016 11:35' '10/12/16 9:59' '9/27/2016 17:14' '10/11/16 12:45'\n",
      " '9/28/2016 11:38' '10/07/16 13:21' '11/04/16 15:37' '9/28/2016 17:39'\n",
      " '10/12/16 9:52' '9/29/2016 15:12' '10/12/16 11:17' '11/10/16 22:58'\n",
      " '11/03/16 15:23' '10/11/16 16:44' '10/11/16 11:02' '10/12/16 13:17'\n",
      " '10/11/16 17:22' '9/28/2016 14:02' '9/29/2016 13:42' '9/19/2016 15:00'\n",
      " '10/12/16 14:32' '10/11/16 11:33' '10/11/16 16:27' '11/15/2016 15:27'\n",
      " '10/11/16 16:13' '10/17/2016 10:06' '11/14/2016 13:15' '10/24/2016 16:20'\n",
      " '9/27/2016 16:35' '10/11/16 11:48' '11/07/16 19:21' '10/12/16 16:22'\n",
      " '9/27/2016 17:24' '11/04/16 11:07' '11/02/16 9:39' '10/13/2016 18:18'\n",
      " '10/11/16 11:29' '10/13/2016 16:27' '9/29/2016 11:19' '9/28/2016 11:17'\n",
      " '10/14/2016 11:04' '10/17/2016 17:40' '9/28/2016 9:42' '11/18/2016 15:52'\n",
      " '10/30/2016 14:19' '10/13/2016 15:10' '9/28/2016 13:36' '9/28/2016 15:34'\n",
      " '11/17/2016 11:55' '11/15/2016 18:51' '9/30/2016 10:23' '11/11/16 17:17'\n",
      " '10/12/16 12:54' '10/15/2016 9:48' '10/27/2016 11:14' '10/15/2016 14:14'\n",
      " '12/02/16 9:45' '9/28/2016 15:02' '11/04/16 14:46' '11/16/2016 12:12'\n",
      " '10/14/2016 19:02' '9/28/2016 11:34' '11/09/16 18:12' '10/31/2016 13:07'\n",
      " '10/20/2016 17:38' '11/07/16 8:55' '10/12/16 18:26' '10/25/2016 13:44'\n",
      " '9/29/2016 15:07' '9/27/2016 11:40' '10/18/2016 19:08' '10/15/2016 9:23'] \n",
      "\n",
      "\u001b[1m\u001b[31m7\u001b[0m \u001b[1m\u001b[31mpast_due_days\u001b[0m [ nan  76.  61.  75.  60.  59.  74.  29.  44.   2.   4.  13.   5.   3.  12.\n",
      "  27.   1.  25.  24.  36.   7.  14.  28.  23.   6.  38.  19.  52.  51.   9.] \n",
      "\n",
      "\u001b[1m\u001b[31m8\u001b[0m \u001b[1m\u001b[31mage\u001b[0m [45 50 33 27 28 35 29 36 26 39 40 32 43 25 34 31 37 24 21 30 22 44 46 38 23\n",
      " 20 47 42 19 51 41 18 49] \n",
      "\n",
      "\u001b[1m\u001b[31m9\u001b[0m \u001b[1m\u001b[31meducation\u001b[0m ['High School or Below' 'Bechalor' 'college' 'Master or Above'] \n",
      "\n",
      "\u001b[1m\u001b[31m10\u001b[0m \u001b[1m\u001b[31mGender\u001b[0m ['male' 'female'] \n",
      "\n"
     ]
    }
   ],
   "source": [
    "## LOOKING FOR UNIQUE VALUES OF COLUMNS OF INTEREST\n",
    "## coi = [1,2,3,4,5,6,,9,10]\n",
    "\n",
    "# Unique values for each attribute/feature  \n",
    "print(colored(\"UNIQUE VALUES OF EACH ATTRIBUTE OF DATASET:\",'green',attrs=['bold','underline']))  \n",
    "for i in range(1,11):\n",
    "    print(colored(i, \"red\", attrs=['bold']),\n",
    "          colored(data.columns[i], \"red\", attrs=['bold'] ), \n",
    "          data[data.columns[i]].unique(),\"\\n\")\n",
    "    "
   ]
  },
  {
   "cell_type": "code",
   "execution_count": null,
   "metadata": {
    "collapsed": true
   },
   "outputs": [],
   "source": []
  },
  {
   "cell_type": "code",
   "execution_count": null,
   "metadata": {
    "collapsed": true
   },
   "outputs": [],
   "source": []
  },
  {
   "cell_type": "markdown",
   "metadata": {},
   "source": [
    "#### Checking Count Of Unique Values For Each Column"
   ]
  },
  {
   "cell_type": "code",
   "execution_count": 9,
   "metadata": {},
   "outputs": [
    {
     "name": "stdout",
     "output_type": "stream",
     "text": [
      "\u001b[4m\u001b[1m\u001b[32mVALUE COUNT OF EACH ATTRIBUTE OF DATASET:\u001b[0m\n",
      "\u001b[1m\u001b[31m1\u001b[0m \u001b[1m\u001b[31mloan_status\u001b[0m \n",
      " PAIDOFF               284\n",
      "COLLECTION_PAIDOFF     85\n",
      "COLLECTION             85\n",
      "Name: loan_status, dtype: int64 \n",
      "\n",
      "\u001b[1m\u001b[31m2\u001b[0m \u001b[1m\u001b[31mPrincipal\u001b[0m \n",
      " 1000    339\n",
      "800     103\n",
      "300       6\n",
      "500       3\n",
      "900       2\n",
      "700       1\n",
      "Name: Principal, dtype: int64 \n",
      "\n",
      "\u001b[1m\u001b[31m3\u001b[0m \u001b[1m\u001b[31mterms\u001b[0m \n",
      " 30    242\n",
      "15    191\n",
      "7      21\n",
      "Name: terms, dtype: int64 \n",
      "\n",
      "\u001b[1m\u001b[31m4\u001b[0m \u001b[1m\u001b[31meffective_date\u001b[0m \n",
      " 09/11/16     220\n",
      "09/12/16     129\n",
      "09/10/16      46\n",
      "9/13/2016     23\n",
      "9/14/2016     17\n",
      "09/09/16      15\n",
      "09/08/16       4\n",
      "Name: effective_date, dtype: int64 \n",
      "\n",
      "\u001b[1m\u001b[31m5\u001b[0m \u001b[1m\u001b[31mdue_date\u001b[0m \n",
      " 10/10/16      120\n",
      "9/25/2016      82\n",
      "10/11/16       58\n",
      "9/26/2016      54\n",
      "10/09/16       28\n",
      "9/24/2016      17\n",
      "9/27/2016      12\n",
      "10/13/2016     10\n",
      "10/12/16        8\n",
      "11/10/16        8\n",
      "9/17/2016       7\n",
      "10/08/16        7\n",
      "11/09/16        7\n",
      "9/23/2016       6\n",
      "9/28/2016       6\n",
      "9/18/2016       4\n",
      "10/26/2016      4\n",
      "10/25/2016      3\n",
      "9/19/2016       3\n",
      "10/07/16        3\n",
      "9/16/2016       3\n",
      "9/15/2016       1\n",
      "9/22/2016       1\n",
      "11/07/16        1\n",
      "11/12/16        1\n",
      "Name: due_date, dtype: int64 \n",
      "\n",
      "\u001b[1m\u001b[31m6\u001b[0m \u001b[1m\u001b[31mpaid_off_time\u001b[0m \n",
      " 9/26/2016 9:00      9\n",
      "9/25/2016 9:00      9\n",
      "10/10/16 9:00       8\n",
      "10/11/16 16:00      5\n",
      "9/25/2016 13:00     5\n",
      "9/26/2016 13:00     4\n",
      "10/10/16 16:00      4\n",
      "10/11/16 9:00       4\n",
      "10/10/16 9:01       4\n",
      "10/11/16 13:01      3\n",
      "10/11/16 9:01       3\n",
      "10/13/2016 9:00     3\n",
      "9/24/2016 13:00     3\n",
      "11/10/16 13:00      3\n",
      "9/26/2016 16:00     3\n",
      "9/26/2016 23:00     3\n",
      "10/11/16 13:00      3\n",
      "9/25/2016 23:00     2\n",
      "9/28/2016 9:00      2\n",
      "9/25/2016 16:00     2\n",
      "9/17/2016 9:00      2\n",
      "10/10/16 13:01      2\n",
      "10/26/2016 9:00     2\n",
      "9/27/2016 9:00      2\n",
      "11/10/16 16:00      2\n",
      "10/12/16 23:00      2\n",
      "9/25/2016 9:01      2\n",
      "10/10/16 13:00      2\n",
      "10/25/2016 9:00     2\n",
      "10/09/16 10:00      2\n",
      "                   ..\n",
      "11/07/16 8:55       1\n",
      "9/14/2016 19:48     1\n",
      "10/08/16 18:48      1\n",
      "10/01/16 10:18      1\n",
      "9/22/2016 10:30     1\n",
      "9/28/2016 11:38     1\n",
      "9/25/2016 19:21     1\n",
      "11/17/2016 11:55    1\n",
      "9/24/2016 13:42     1\n",
      "10/07/16 2:33       1\n",
      "10/14/2016 11:03    1\n",
      "9/17/2016 7:39      1\n",
      "9/23/2016 21:36     1\n",
      "11/14/2016 13:15    1\n",
      "10/07/16 23:07      1\n",
      "9/19/2016 21:07     1\n",
      "9/20/2016 8:26      1\n",
      "9/28/2016 11:34     1\n",
      "9/24/2016 20:47     1\n",
      "09/12/16 11:40      1\n",
      "10/10/16 16:41      1\n",
      "9/15/2016 20:36     1\n",
      "11/05/16 10:49      1\n",
      "10/10/16 15:49      1\n",
      "9/22/2016 13:15     1\n",
      "9/13/2016 4:34      1\n",
      "10/11/16 11:29      1\n",
      "10/06/16 6:51       1\n",
      "9/28/2016 15:02     1\n",
      "11/04/16 15:37      1\n",
      "Name: paid_off_time, Length: 296, dtype: int64 \n",
      "\n",
      "\u001b[1m\u001b[31m7\u001b[0m \u001b[1m\u001b[31mpast_due_days\u001b[0m \n",
      " 59.0    37\n",
      "74.0    20\n",
      "2.0     20\n",
      "1.0     16\n",
      "60.0    13\n",
      "3.0     10\n",
      "4.0      8\n",
      "75.0     7\n",
      "5.0      5\n",
      "29.0     4\n",
      "27.0     3\n",
      "76.0     3\n",
      "7.0      3\n",
      "25.0     2\n",
      "61.0     2\n",
      "12.0     2\n",
      "24.0     2\n",
      "44.0     2\n",
      "6.0      1\n",
      "52.0     1\n",
      "19.0     1\n",
      "38.0     1\n",
      "28.0     1\n",
      "23.0     1\n",
      "14.0     1\n",
      "13.0     1\n",
      "36.0     1\n",
      "51.0     1\n",
      "9.0      1\n",
      "Name: past_due_days, dtype: int64 \n",
      "\n",
      "\u001b[1m\u001b[31m8\u001b[0m \u001b[1m\u001b[31mage\u001b[0m \n",
      " 26    42\n",
      "29    37\n",
      "27    35\n",
      "30    32\n",
      "33    29\n",
      "28    27\n",
      "35    24\n",
      "34    23\n",
      "31    22\n",
      "24    22\n",
      "25    19\n",
      "32    18\n",
      "37    18\n",
      "38    14\n",
      "36    11\n",
      "23    10\n",
      "39     9\n",
      "22     8\n",
      "21     7\n",
      "40     7\n",
      "43     5\n",
      "41     4\n",
      "44     4\n",
      "45     4\n",
      "50     4\n",
      "20     4\n",
      "42     4\n",
      "46     3\n",
      "47     3\n",
      "19     2\n",
      "51     1\n",
      "49     1\n",
      "18     1\n",
      "Name: age, dtype: int64 \n",
      "\n",
      "\u001b[1m\u001b[31m9\u001b[0m \u001b[1m\u001b[31meducation\u001b[0m \n",
      " college                 202\n",
      "High School or Below    188\n",
      "Bechalor                 60\n",
      "Master or Above           4\n",
      "Name: education, dtype: int64 \n",
      "\n",
      "\u001b[1m\u001b[31m10\u001b[0m \u001b[1m\u001b[31mGender\u001b[0m \n",
      " male      382\n",
      "female     72\n",
      "Name: Gender, dtype: int64 \n",
      "\n"
     ]
    }
   ],
   "source": [
    "print(colored(\"VALUE COUNT OF EACH ATTRIBUTE OF DATASET:\",'green',attrs=['bold','underline']))\n",
    "for i in range(1,11):\n",
    "    print(colored(i, \"red\", attrs=['bold']),\n",
    "          colored(data.columns[i], \"red\", attrs=['bold'] ), \"\\n\",\n",
    "          data[data.columns[i]].value_counts(),\"\\n\")\n",
    "    "
   ]
  },
  {
   "cell_type": "markdown",
   "metadata": {},
   "source": [
    "### Take Away:\n",
    "* 'paid_off_time' attribute is a date-time stamp. Though it has 18.72% of missing values, extracting just the date out of will be a wise idea.\n",
    "\n",
    "* For this a new column is appended to the copy of original dataframe('data') by the name 'paid_off_date'. With the introduction of this column 'paid_off_time' can be dropped off from this copy dataframe.\n"
   ]
  },
  {
   "cell_type": "markdown",
   "metadata": {},
   "source": [
    "### Preparing new column for 'paid_off_date'"
   ]
  },
  {
   "cell_type": "code",
   "execution_count": 10,
   "metadata": {},
   "outputs": [
    {
     "name": "stderr",
     "output_type": "stream",
     "text": [
      "C:\\Users\\Pakhi\\Anaconda3\\lib\\site-packages\\ipykernel_launcher.py:16: SettingWithCopyWarning: \n",
      "A value is trying to be set on a copy of a slice from a DataFrame\n",
      "\n",
      "See the caveats in the documentation: http://pandas.pydata.org/pandas-docs/stable/indexing.html#indexing-view-versus-copy\n",
      "  app.launch_new_instance()\n"
     ]
    },
    {
     "name": "stdout",
     "output_type": "stream",
     "text": [
      "\u001b[4m\u001b[1m\u001b[32mPREPARING NEW COLUMN 'paid_off_date' IS SUCCESSFULL....:\u001b[0m\n",
      "MISSING VALUES ARE: 85\n",
      "Hence rechecked!\n"
     ]
    }
   ],
   "source": [
    "# PAID OFF TIME is a date-time stamp \n",
    "# Label encoder won't work on it and give it a unique integer\n",
    "# Since time is of no such important but date is, \n",
    "# it is wise to replace this column with a new paid_off_date column\n",
    "# which will only have date\n",
    "\n",
    "## Method 1: the method below gives warning but the dates produced seemed to be the same as done by method 2\n",
    "data['paid_off_date'] = None\n",
    "count = 0\n",
    "\n",
    "for i in range(len(data.paid_off_time)):\n",
    "    \n",
    "     if not pd.isnull(data['paid_off_time'][i]):\n",
    "        count = count + 1\n",
    "        \n",
    "        data['paid_off_date'][i] = pd.to_datetime(data['paid_off_time'][i]).date().strftime('%m/%d/%Y')\n",
    "\n",
    "print(colored(\"PREPARING NEW COLUMN 'paid_off_date' IS SUCCESSFULL....:\",'green',attrs=['bold','underline']))\n",
    "print('MISSING VALUES ARE:', 454-count)\n",
    "print(\"Hence rechecked!\")\n",
    "\n",
    "### Method 2\n",
    "# data['paid_off_date'] = pd.DatetimeIndex(data.paid_off_time).normalize()\n",
    "    "
   ]
  },
  {
   "cell_type": "code",
   "execution_count": null,
   "metadata": {
    "collapsed": true
   },
   "outputs": [],
   "source": []
  },
  {
   "cell_type": "code",
   "execution_count": null,
   "metadata": {
    "collapsed": true
   },
   "outputs": [],
   "source": []
  },
  {
   "cell_type": "markdown",
   "metadata": {},
   "source": [
    "#### UNIQUE VALUES OF 'paid_off_date'"
   ]
  },
  {
   "cell_type": "code",
   "execution_count": 11,
   "metadata": {},
   "outputs": [
    {
     "name": "stdout",
     "output_type": "stream",
     "text": [
      "\u001b[4m\u001b[1m\u001b[32mTHE UNIQUE VALUES OF 'paid_off_date'\n",
      "\u001b[0m\n",
      "['09/14/2016' '10/07/2016' '09/25/2016' '09/22/2016' '09/23/2016'\n",
      " '09/09/2016' '10/05/2016' '10/08/2016' '09/24/2016' '09/11/2016'\n",
      " '10/09/2016' '09/13/2016' '09/15/2016' '09/27/2016' '10/03/2016'\n",
      " '09/29/2016' '09/21/2016' '10/10/2016' '09/20/2016' '09/12/2016'\n",
      " '09/30/2016' '11/09/2016' '09/17/2016' '10/06/2016' '09/16/2016'\n",
      " '10/25/2016' '09/26/2016' '10/01/2016' '09/18/2016' '10/26/2016'\n",
      " '10/11/2016' '11/10/2016' '09/19/2016' '10/12/2016' '10/04/2016'\n",
      " '09/28/2016' '10/13/2016' '10/14/2016' '11/12/2016' None '11/20/2016'\n",
      " '10/21/2016' '11/05/2016' '11/22/2016' '11/04/2016' '11/03/2016'\n",
      " '11/15/2016' '10/17/2016' '11/14/2016' '10/24/2016' '11/07/2016'\n",
      " '11/02/2016' '11/18/2016' '10/30/2016' '11/17/2016' '11/11/2016'\n",
      " '10/15/2016' '10/27/2016' '12/02/2016' '11/16/2016' '10/31/2016'\n",
      " '10/20/2016' '10/18/2016']\n"
     ]
    }
   ],
   "source": [
    "# Finding the unique values of the new column\n",
    "print(colored(\"THE UNIQUE VALUES OF 'paid_off_date'\\n\", \"green\", attrs=['bold', 'underline']))\n",
    "print(data['paid_off_date'].unique())\n"
   ]
  },
  {
   "cell_type": "code",
   "execution_count": null,
   "metadata": {
    "collapsed": true
   },
   "outputs": [],
   "source": []
  },
  {
   "cell_type": "code",
   "execution_count": null,
   "metadata": {
    "collapsed": true
   },
   "outputs": [],
   "source": []
  },
  {
   "cell_type": "markdown",
   "metadata": {},
   "source": [
    "#### ALTERED DATA AFTER ADDING 'paid_off_date'"
   ]
  },
  {
   "cell_type": "code",
   "execution_count": 12,
   "metadata": {},
   "outputs": [
    {
     "name": "stdout",
     "output_type": "stream",
     "text": [
      "\u001b[4m\u001b[1m\u001b[32mALTERED DATA AFTER ADDING 'paid_off_date':\n",
      "\u001b[0m\n"
     ]
    },
    {
     "data": {
      "text/html": [
       "<div>\n",
       "<style>\n",
       "    .dataframe thead tr:only-child th {\n",
       "        text-align: right;\n",
       "    }\n",
       "\n",
       "    .dataframe thead th {\n",
       "        text-align: left;\n",
       "    }\n",
       "\n",
       "    .dataframe tbody tr th {\n",
       "        vertical-align: top;\n",
       "    }\n",
       "</style>\n",
       "<table border=\"1\" class=\"dataframe\">\n",
       "  <thead>\n",
       "    <tr style=\"text-align: right;\">\n",
       "      <th></th>\n",
       "      <th>Loan_ID</th>\n",
       "      <th>loan_status</th>\n",
       "      <th>Principal</th>\n",
       "      <th>terms</th>\n",
       "      <th>effective_date</th>\n",
       "      <th>due_date</th>\n",
       "      <th>paid_off_time</th>\n",
       "      <th>past_due_days</th>\n",
       "      <th>age</th>\n",
       "      <th>education</th>\n",
       "      <th>Gender</th>\n",
       "      <th>paid_off_date</th>\n",
       "    </tr>\n",
       "  </thead>\n",
       "  <tbody>\n",
       "    <tr>\n",
       "      <th>0</th>\n",
       "      <td>xqd20166231</td>\n",
       "      <td>PAIDOFF</td>\n",
       "      <td>1000</td>\n",
       "      <td>30</td>\n",
       "      <td>09/08/16</td>\n",
       "      <td>10/07/16</td>\n",
       "      <td>9/14/2016 19:31</td>\n",
       "      <td>NaN</td>\n",
       "      <td>45</td>\n",
       "      <td>High School or Below</td>\n",
       "      <td>male</td>\n",
       "      <td>09/14/2016</td>\n",
       "    </tr>\n",
       "    <tr>\n",
       "      <th>1</th>\n",
       "      <td>xqd20168902</td>\n",
       "      <td>PAIDOFF</td>\n",
       "      <td>1000</td>\n",
       "      <td>30</td>\n",
       "      <td>09/08/16</td>\n",
       "      <td>10/07/16</td>\n",
       "      <td>10/07/16 9:00</td>\n",
       "      <td>NaN</td>\n",
       "      <td>50</td>\n",
       "      <td>Bechalor</td>\n",
       "      <td>female</td>\n",
       "      <td>10/07/2016</td>\n",
       "    </tr>\n",
       "    <tr>\n",
       "      <th>2</th>\n",
       "      <td>xqd20160003</td>\n",
       "      <td>PAIDOFF</td>\n",
       "      <td>1000</td>\n",
       "      <td>30</td>\n",
       "      <td>09/08/16</td>\n",
       "      <td>10/07/16</td>\n",
       "      <td>9/25/2016 16:58</td>\n",
       "      <td>NaN</td>\n",
       "      <td>33</td>\n",
       "      <td>Bechalor</td>\n",
       "      <td>female</td>\n",
       "      <td>09/25/2016</td>\n",
       "    </tr>\n",
       "    <tr>\n",
       "      <th>3</th>\n",
       "      <td>xqd20160004</td>\n",
       "      <td>PAIDOFF</td>\n",
       "      <td>1000</td>\n",
       "      <td>15</td>\n",
       "      <td>09/08/16</td>\n",
       "      <td>9/22/2016</td>\n",
       "      <td>9/22/2016 20:00</td>\n",
       "      <td>NaN</td>\n",
       "      <td>27</td>\n",
       "      <td>college</td>\n",
       "      <td>male</td>\n",
       "      <td>09/22/2016</td>\n",
       "    </tr>\n",
       "    <tr>\n",
       "      <th>4</th>\n",
       "      <td>xqd20160005</td>\n",
       "      <td>PAIDOFF</td>\n",
       "      <td>1000</td>\n",
       "      <td>30</td>\n",
       "      <td>09/09/16</td>\n",
       "      <td>10/08/16</td>\n",
       "      <td>9/23/2016 21:36</td>\n",
       "      <td>NaN</td>\n",
       "      <td>28</td>\n",
       "      <td>college</td>\n",
       "      <td>female</td>\n",
       "      <td>09/23/2016</td>\n",
       "    </tr>\n",
       "  </tbody>\n",
       "</table>\n",
       "</div>"
      ],
      "text/plain": [
       "       Loan_ID loan_status  Principal  terms effective_date   due_date  \\\n",
       "0  xqd20166231     PAIDOFF       1000     30       09/08/16   10/07/16   \n",
       "1  xqd20168902     PAIDOFF       1000     30       09/08/16   10/07/16   \n",
       "2  xqd20160003     PAIDOFF       1000     30       09/08/16   10/07/16   \n",
       "3  xqd20160004     PAIDOFF       1000     15       09/08/16  9/22/2016   \n",
       "4  xqd20160005     PAIDOFF       1000     30       09/09/16   10/08/16   \n",
       "\n",
       "     paid_off_time  past_due_days  age             education  Gender  \\\n",
       "0  9/14/2016 19:31            NaN   45  High School or Below    male   \n",
       "1    10/07/16 9:00            NaN   50              Bechalor  female   \n",
       "2  9/25/2016 16:58            NaN   33              Bechalor  female   \n",
       "3  9/22/2016 20:00            NaN   27               college    male   \n",
       "4  9/23/2016 21:36            NaN   28               college  female   \n",
       "\n",
       "  paid_off_date  \n",
       "0    09/14/2016  \n",
       "1    10/07/2016  \n",
       "2    09/25/2016  \n",
       "3    09/22/2016  \n",
       "4    09/23/2016  "
      ]
     },
     "execution_count": 12,
     "metadata": {},
     "output_type": "execute_result"
    }
   ],
   "source": [
    "print(colored(\"ALTERED DATA AFTER ADDING 'paid_off_date':\\n\", \"green\", attrs=['bold', 'underline']))\n",
    "data.head(5)"
   ]
  },
  {
   "cell_type": "code",
   "execution_count": 13,
   "metadata": {
    "collapsed": true
   },
   "outputs": [],
   "source": [
    "## rechecking the null or missing values\n",
    "\n",
    "# count = 0\n",
    "# for i in range(len(data.paid_off_date)):\n",
    "    \n",
    "#     if data['paid_off_date'][i] == 'nan':\n",
    "#         count = count + 1\n",
    "# print(\"MISSING VALUE COUNT:\", count)\n"
   ]
  },
  {
   "cell_type": "code",
   "execution_count": null,
   "metadata": {
    "collapsed": true
   },
   "outputs": [],
   "source": []
  },
  {
   "cell_type": "code",
   "execution_count": null,
   "metadata": {
    "collapsed": true
   },
   "outputs": [],
   "source": []
  },
  {
   "cell_type": "markdown",
   "metadata": {},
   "source": [
    "#### REMOVING UNNECESSARY 'paid_off_time'\n",
    "With the introduction of paid_off_date, paid_off_time can be deleted"
   ]
  },
  {
   "cell_type": "code",
   "execution_count": 14,
   "metadata": {
    "collapsed": true
   },
   "outputs": [],
   "source": [
    "data = data.drop(['paid_off_time'], axis = 1)\n"
   ]
  },
  {
   "cell_type": "markdown",
   "metadata": {},
   "source": [
    "#### ALTERED DATA AFTER DROPPING 'paid_off_time'"
   ]
  },
  {
   "cell_type": "code",
   "execution_count": 15,
   "metadata": {},
   "outputs": [
    {
     "name": "stdout",
     "output_type": "stream",
     "text": [
      "\u001b[1m\u001b[32mALTERED DATA AFTER DROPPING 'paid_off_time':\n",
      "\u001b[0m\n"
     ]
    },
    {
     "data": {
      "text/html": [
       "<div>\n",
       "<style>\n",
       "    .dataframe thead tr:only-child th {\n",
       "        text-align: right;\n",
       "    }\n",
       "\n",
       "    .dataframe thead th {\n",
       "        text-align: left;\n",
       "    }\n",
       "\n",
       "    .dataframe tbody tr th {\n",
       "        vertical-align: top;\n",
       "    }\n",
       "</style>\n",
       "<table border=\"1\" class=\"dataframe\">\n",
       "  <thead>\n",
       "    <tr style=\"text-align: right;\">\n",
       "      <th></th>\n",
       "      <th>Loan_ID</th>\n",
       "      <th>loan_status</th>\n",
       "      <th>Principal</th>\n",
       "      <th>terms</th>\n",
       "      <th>effective_date</th>\n",
       "      <th>due_date</th>\n",
       "      <th>past_due_days</th>\n",
       "      <th>age</th>\n",
       "      <th>education</th>\n",
       "      <th>Gender</th>\n",
       "      <th>paid_off_date</th>\n",
       "    </tr>\n",
       "  </thead>\n",
       "  <tbody>\n",
       "    <tr>\n",
       "      <th>0</th>\n",
       "      <td>xqd20166231</td>\n",
       "      <td>PAIDOFF</td>\n",
       "      <td>1000</td>\n",
       "      <td>30</td>\n",
       "      <td>09/08/16</td>\n",
       "      <td>10/07/16</td>\n",
       "      <td>NaN</td>\n",
       "      <td>45</td>\n",
       "      <td>High School or Below</td>\n",
       "      <td>male</td>\n",
       "      <td>09/14/2016</td>\n",
       "    </tr>\n",
       "    <tr>\n",
       "      <th>1</th>\n",
       "      <td>xqd20168902</td>\n",
       "      <td>PAIDOFF</td>\n",
       "      <td>1000</td>\n",
       "      <td>30</td>\n",
       "      <td>09/08/16</td>\n",
       "      <td>10/07/16</td>\n",
       "      <td>NaN</td>\n",
       "      <td>50</td>\n",
       "      <td>Bechalor</td>\n",
       "      <td>female</td>\n",
       "      <td>10/07/2016</td>\n",
       "    </tr>\n",
       "  </tbody>\n",
       "</table>\n",
       "</div>"
      ],
      "text/plain": [
       "       Loan_ID loan_status  Principal  terms effective_date  due_date  \\\n",
       "0  xqd20166231     PAIDOFF       1000     30       09/08/16  10/07/16   \n",
       "1  xqd20168902     PAIDOFF       1000     30       09/08/16  10/07/16   \n",
       "\n",
       "   past_due_days  age             education  Gender paid_off_date  \n",
       "0            NaN   45  High School or Below    male    09/14/2016  \n",
       "1            NaN   50              Bechalor  female    10/07/2016  "
      ]
     },
     "execution_count": 15,
     "metadata": {},
     "output_type": "execute_result"
    }
   ],
   "source": [
    "print(colored(\"ALTERED DATA AFTER DROPPING 'paid_off_time':\\n\", \"green\", attrs=['bold']))\n",
    "data.head(2)"
   ]
  },
  {
   "cell_type": "code",
   "execution_count": 16,
   "metadata": {},
   "outputs": [
    {
     "name": "stdout",
     "output_type": "stream",
     "text": [
      "\u001b[4m\u001b[1m\u001b[32mTHE UNIQUE VALUED OF 'past_due_days'\n",
      "\u001b[0m\n",
      "['09/14/2016' '10/07/2016' '09/25/2016' '09/22/2016' '09/23/2016'\n",
      " '09/09/2016' '10/05/2016' '10/08/2016' '09/24/2016' '09/11/2016'\n",
      " '10/09/2016' '09/13/2016' '09/15/2016' '09/27/2016' '10/03/2016'\n",
      " '09/29/2016' '09/21/2016' '10/10/2016' '09/20/2016' '09/12/2016'\n",
      " '09/30/2016' '11/09/2016' '09/17/2016' '10/06/2016' '09/16/2016'\n",
      " '10/25/2016' '09/26/2016' '10/01/2016' '09/18/2016' '10/26/2016'\n",
      " '10/11/2016' '11/10/2016' '09/19/2016' '10/12/2016' '10/04/2016'\n",
      " '09/28/2016' '10/13/2016' '10/14/2016' '11/12/2016' None '11/20/2016'\n",
      " '10/21/2016' '11/05/2016' '11/22/2016' '11/04/2016' '11/03/2016'\n",
      " '11/15/2016' '10/17/2016' '11/14/2016' '10/24/2016' '11/07/2016'\n",
      " '11/02/2016' '11/18/2016' '10/30/2016' '11/17/2016' '11/11/2016'\n",
      " '10/15/2016' '10/27/2016' '12/02/2016' '11/16/2016' '10/31/2016'\n",
      " '10/20/2016' '10/18/2016']\n"
     ]
    }
   ],
   "source": [
    "print(colored(\"THE UNIQUE VALUED OF 'past_due_days'\\n\", \"green\", attrs=['bold','underline']))\n",
    "print(data['paid_off_date'].unique())\n",
    "\n",
    "# String values"
   ]
  },
  {
   "cell_type": "markdown",
   "metadata": {},
   "source": [
    "## VISUALIZING DATA\n",
    "* This section is about getting to know the data well though graphs, pie charts and table.\n",
    "* The aim is to know the categories of the attribute and its quantity.\n",
    "* Also, wherever possible, the attrubute is plotted against loan_status to know the relation between them.\n",
    "\n",
    "* At the end of all such visualizations, a HEATMAP is plotted which gives the correlation between different attributes of the dataset. It is one of the best way to decide which attribute/column to keep or remove.\n"
   ]
  },
  {
   "cell_type": "code",
   "execution_count": 17,
   "metadata": {},
   "outputs": [
    {
     "data": {
      "text/html": [
       "<div>\n",
       "<style>\n",
       "    .dataframe thead tr:only-child th {\n",
       "        text-align: right;\n",
       "    }\n",
       "\n",
       "    .dataframe thead th {\n",
       "        text-align: left;\n",
       "    }\n",
       "\n",
       "    .dataframe tbody tr th {\n",
       "        vertical-align: top;\n",
       "    }\n",
       "</style>\n",
       "<table border=\"1\" class=\"dataframe\">\n",
       "  <thead>\n",
       "    <tr style=\"text-align: right;\">\n",
       "      <th></th>\n",
       "      <th>Loan_ID</th>\n",
       "      <th>loan_status</th>\n",
       "      <th>Principal</th>\n",
       "      <th>terms</th>\n",
       "      <th>effective_date</th>\n",
       "      <th>due_date</th>\n",
       "      <th>past_due_days</th>\n",
       "      <th>age</th>\n",
       "      <th>education</th>\n",
       "      <th>Gender</th>\n",
       "      <th>paid_off_date</th>\n",
       "    </tr>\n",
       "  </thead>\n",
       "  <tbody>\n",
       "    <tr>\n",
       "      <th>0</th>\n",
       "      <td>xqd20166231</td>\n",
       "      <td>PAIDOFF</td>\n",
       "      <td>1000</td>\n",
       "      <td>30</td>\n",
       "      <td>09/08/16</td>\n",
       "      <td>10/07/16</td>\n",
       "      <td>NaN</td>\n",
       "      <td>45</td>\n",
       "      <td>High School or Below</td>\n",
       "      <td>male</td>\n",
       "      <td>09/14/2016</td>\n",
       "    </tr>\n",
       "    <tr>\n",
       "      <th>1</th>\n",
       "      <td>xqd20168902</td>\n",
       "      <td>PAIDOFF</td>\n",
       "      <td>1000</td>\n",
       "      <td>30</td>\n",
       "      <td>09/08/16</td>\n",
       "      <td>10/07/16</td>\n",
       "      <td>NaN</td>\n",
       "      <td>50</td>\n",
       "      <td>Bechalor</td>\n",
       "      <td>female</td>\n",
       "      <td>10/07/2016</td>\n",
       "    </tr>\n",
       "    <tr>\n",
       "      <th>2</th>\n",
       "      <td>xqd20160003</td>\n",
       "      <td>PAIDOFF</td>\n",
       "      <td>1000</td>\n",
       "      <td>30</td>\n",
       "      <td>09/08/16</td>\n",
       "      <td>10/07/16</td>\n",
       "      <td>NaN</td>\n",
       "      <td>33</td>\n",
       "      <td>Bechalor</td>\n",
       "      <td>female</td>\n",
       "      <td>09/25/2016</td>\n",
       "    </tr>\n",
       "    <tr>\n",
       "      <th>3</th>\n",
       "      <td>xqd20160004</td>\n",
       "      <td>PAIDOFF</td>\n",
       "      <td>1000</td>\n",
       "      <td>15</td>\n",
       "      <td>09/08/16</td>\n",
       "      <td>9/22/2016</td>\n",
       "      <td>NaN</td>\n",
       "      <td>27</td>\n",
       "      <td>college</td>\n",
       "      <td>male</td>\n",
       "      <td>09/22/2016</td>\n",
       "    </tr>\n",
       "    <tr>\n",
       "      <th>4</th>\n",
       "      <td>xqd20160005</td>\n",
       "      <td>PAIDOFF</td>\n",
       "      <td>1000</td>\n",
       "      <td>30</td>\n",
       "      <td>09/09/16</td>\n",
       "      <td>10/08/16</td>\n",
       "      <td>NaN</td>\n",
       "      <td>28</td>\n",
       "      <td>college</td>\n",
       "      <td>female</td>\n",
       "      <td>09/23/2016</td>\n",
       "    </tr>\n",
       "  </tbody>\n",
       "</table>\n",
       "</div>"
      ],
      "text/plain": [
       "       Loan_ID loan_status  Principal  terms effective_date   due_date  \\\n",
       "0  xqd20166231     PAIDOFF       1000     30       09/08/16   10/07/16   \n",
       "1  xqd20168902     PAIDOFF       1000     30       09/08/16   10/07/16   \n",
       "2  xqd20160003     PAIDOFF       1000     30       09/08/16   10/07/16   \n",
       "3  xqd20160004     PAIDOFF       1000     15       09/08/16  9/22/2016   \n",
       "4  xqd20160005     PAIDOFF       1000     30       09/09/16   10/08/16   \n",
       "\n",
       "   past_due_days  age             education  Gender paid_off_date  \n",
       "0            NaN   45  High School or Below    male    09/14/2016  \n",
       "1            NaN   50              Bechalor  female    10/07/2016  \n",
       "2            NaN   33              Bechalor  female    09/25/2016  \n",
       "3            NaN   27               college    male    09/22/2016  \n",
       "4            NaN   28               college  female    09/23/2016  "
      ]
     },
     "execution_count": 17,
     "metadata": {},
     "output_type": "execute_result"
    }
   ],
   "source": [
    "data.head()"
   ]
  },
  {
   "cell_type": "markdown",
   "metadata": {},
   "source": [
    "### LABEL ENCODING "
   ]
  },
  {
   "cell_type": "code",
   "execution_count": 18,
   "metadata": {
    "collapsed": true
   },
   "outputs": [],
   "source": [
    "# Before being able to visualize each and every feature it is must that all \n",
    "# strings are in integer form\n",
    "# and null values are treated as a category\n",
    "# For this we make use of label encoder\n",
    "\n",
    "le=preprocessing.LabelEncoder()\n",
    "\n",
    "#String values\n",
    "data['loan_status'] = le.fit_transform(data['loan_status'])\n",
    "data['Gender'] = le.fit_transform(data['Gender'])\n",
    "data['education'] = le.fit_transform(data['education'])\n",
    "data['effective_date'] = le.fit_transform(data['effective_date'])\n",
    "data['due_date'] = le.fit_transform(data['due_date'])\n",
    "data['Loan_ID'] = le.fit_transform(data['Loan_ID'])\n",
    "\n",
    "\n",
    "#nan values - treated as a category \n",
    "data['past_due_days'] = le.fit_transform(data['past_due_days'])\n",
    "\n",
    "##won't work on date-time format (no need too) or strings having ->\n",
    "# data['paid_off_date'] = le.fit_transform(data['paid_off_date'])                       \n",
    "                                               "
   ]
  },
  {
   "cell_type": "code",
   "execution_count": 19,
   "metadata": {},
   "outputs": [
    {
     "name": "stdout",
     "output_type": "stream",
     "text": [
      "\u001b[4m\u001b[1m\u001b[32mALTERED DATA AFTER LABEL ENCODING:\n",
      "\u001b[0m\n"
     ]
    },
    {
     "data": {
      "text/html": [
       "<div>\n",
       "<style>\n",
       "    .dataframe thead tr:only-child th {\n",
       "        text-align: right;\n",
       "    }\n",
       "\n",
       "    .dataframe thead th {\n",
       "        text-align: left;\n",
       "    }\n",
       "\n",
       "    .dataframe tbody tr th {\n",
       "        vertical-align: top;\n",
       "    }\n",
       "</style>\n",
       "<table border=\"1\" class=\"dataframe\">\n",
       "  <thead>\n",
       "    <tr style=\"text-align: right;\">\n",
       "      <th></th>\n",
       "      <th>Loan_ID</th>\n",
       "      <th>loan_status</th>\n",
       "      <th>Principal</th>\n",
       "      <th>terms</th>\n",
       "      <th>effective_date</th>\n",
       "      <th>due_date</th>\n",
       "      <th>past_due_days</th>\n",
       "      <th>age</th>\n",
       "      <th>education</th>\n",
       "      <th>Gender</th>\n",
       "      <th>paid_off_date</th>\n",
       "    </tr>\n",
       "  </thead>\n",
       "  <tbody>\n",
       "    <tr>\n",
       "      <th>0</th>\n",
       "      <td>425</td>\n",
       "      <td>2</td>\n",
       "      <td>1000</td>\n",
       "      <td>30</td>\n",
       "      <td>0</td>\n",
       "      <td>0</td>\n",
       "      <td>86</td>\n",
       "      <td>45</td>\n",
       "      <td>1</td>\n",
       "      <td>1</td>\n",
       "      <td>09/14/2016</td>\n",
       "    </tr>\n",
       "    <tr>\n",
       "      <th>1</th>\n",
       "      <td>427</td>\n",
       "      <td>2</td>\n",
       "      <td>1000</td>\n",
       "      <td>30</td>\n",
       "      <td>0</td>\n",
       "      <td>0</td>\n",
       "      <td>167</td>\n",
       "      <td>50</td>\n",
       "      <td>0</td>\n",
       "      <td>0</td>\n",
       "      <td>10/07/2016</td>\n",
       "    </tr>\n",
       "    <tr>\n",
       "      <th>2</th>\n",
       "      <td>3</td>\n",
       "      <td>2</td>\n",
       "      <td>1000</td>\n",
       "      <td>30</td>\n",
       "      <td>0</td>\n",
       "      <td>0</td>\n",
       "      <td>166</td>\n",
       "      <td>33</td>\n",
       "      <td>0</td>\n",
       "      <td>0</td>\n",
       "      <td>09/25/2016</td>\n",
       "    </tr>\n",
       "    <tr>\n",
       "      <th>3</th>\n",
       "      <td>4</td>\n",
       "      <td>2</td>\n",
       "      <td>1000</td>\n",
       "      <td>15</td>\n",
       "      <td>0</td>\n",
       "      <td>18</td>\n",
       "      <td>165</td>\n",
       "      <td>27</td>\n",
       "      <td>3</td>\n",
       "      <td>1</td>\n",
       "      <td>09/22/2016</td>\n",
       "    </tr>\n",
       "    <tr>\n",
       "      <th>4</th>\n",
       "      <td>5</td>\n",
       "      <td>2</td>\n",
       "      <td>1000</td>\n",
       "      <td>30</td>\n",
       "      <td>1</td>\n",
       "      <td>1</td>\n",
       "      <td>164</td>\n",
       "      <td>28</td>\n",
       "      <td>3</td>\n",
       "      <td>0</td>\n",
       "      <td>09/23/2016</td>\n",
       "    </tr>\n",
       "  </tbody>\n",
       "</table>\n",
       "</div>"
      ],
      "text/plain": [
       "   Loan_ID  loan_status  Principal  terms  effective_date  due_date  \\\n",
       "0      425            2       1000     30               0         0   \n",
       "1      427            2       1000     30               0         0   \n",
       "2        3            2       1000     30               0         0   \n",
       "3        4            2       1000     15               0        18   \n",
       "4        5            2       1000     30               1         1   \n",
       "\n",
       "   past_due_days  age  education  Gender paid_off_date  \n",
       "0             86   45          1       1    09/14/2016  \n",
       "1            167   50          0       0    10/07/2016  \n",
       "2            166   33          0       0    09/25/2016  \n",
       "3            165   27          3       1    09/22/2016  \n",
       "4            164   28          3       0    09/23/2016  "
      ]
     },
     "execution_count": 19,
     "metadata": {},
     "output_type": "execute_result"
    }
   ],
   "source": [
    "# Now seeing the changed dataframe\n",
    "print(colored(\"ALTERED DATA AFTER LABEL ENCODING:\\n\", \"green\", attrs=['bold','underline']))\n",
    "data.head()"
   ]
  },
  {
   "cell_type": "markdown",
   "metadata": {},
   "source": [
    "### HELPER FUNCTION TO GET HEIGHT OF EACH BAR IN  THE BAR PLOT"
   ]
  },
  {
   "cell_type": "code",
   "execution_count": 20,
   "metadata": {
    "collapsed": true
   },
   "outputs": [],
   "source": [
    "# gets the height of each bar \n",
    "def get_height(ax):\n",
    "    for box in ax.patches:\n",
    "        ax.annotate(box.get_height(), (box.get_x(), box.get_height()*1.01))"
   ]
  },
  {
   "cell_type": "code",
   "execution_count": null,
   "metadata": {
    "collapsed": true
   },
   "outputs": [],
   "source": []
  },
  {
   "cell_type": "code",
   "execution_count": null,
   "metadata": {
    "collapsed": true
   },
   "outputs": [],
   "source": []
  },
  {
   "cell_type": "markdown",
   "metadata": {},
   "source": [
    "### 1. ANALYSING LOAN STATUS:\n",
    "* Loan_status : Whether a loan is paid off, in collection, new customer yet to payoff, or paid off after the collection efforts\n",
    "\n"
   ]
  },
  {
   "cell_type": "code",
   "execution_count": 21,
   "metadata": {},
   "outputs": [
    {
     "data": {
      "image/png": "[encoded data removed]",
      "text/plain": [
       "<matplotlib.figure.Figure at 0x1f07af747f0>"
      ]
     },
     "metadata": {},
     "output_type": "display_data"
    }
   ],
   "source": [
    "fig = plt.figure(figsize=(7,7))\n",
    "\n",
    "ax = sns.countplot(orig_data['loan_status'])\n",
    "ax.set_title(\"Loan Status Distribution\", size = 16)\n",
    "get_height(ax)"
   ]
  },
  {
   "cell_type": "code",
   "execution_count": 22,
   "metadata": {},
   "outputs": [
    {
     "data": {
      "text/html": [
       "<div>\n",
       "<style>\n",
       "    .dataframe thead tr:only-child th {\n",
       "        text-align: right;\n",
       "    }\n",
       "\n",
       "    .dataframe thead th {\n",
       "        text-align: left;\n",
       "    }\n",
       "\n",
       "    .dataframe tbody tr th {\n",
       "        vertical-align: top;\n",
       "    }\n",
       "</style>\n",
       "<table border=\"1\" class=\"dataframe\">\n",
       "  <thead>\n",
       "    <tr style=\"text-align: right;\">\n",
       "      <th></th>\n",
       "      <th>Loan_ID</th>\n",
       "    </tr>\n",
       "    <tr>\n",
       "      <th>loan_status</th>\n",
       "      <th></th>\n",
       "    </tr>\n",
       "  </thead>\n",
       "  <tbody>\n",
       "    <tr>\n",
       "      <th>COLLECTION</th>\n",
       "      <td>85</td>\n",
       "    </tr>\n",
       "    <tr>\n",
       "      <th>COLLECTION_PAIDOFF</th>\n",
       "      <td>85</td>\n",
       "    </tr>\n",
       "    <tr>\n",
       "      <th>PAIDOFF</th>\n",
       "      <td>284</td>\n",
       "    </tr>\n",
       "  </tbody>\n",
       "</table>\n",
       "</div>"
      ],
      "text/plain": [
       "                    Loan_ID\n",
       "loan_status                \n",
       "COLLECTION               85\n",
       "COLLECTION_PAIDOFF       85\n",
       "PAIDOFF                 284"
      ]
     },
     "execution_count": 22,
     "metadata": {},
     "output_type": "execute_result"
    }
   ],
   "source": [
    "pd.DataFrame(orig_data.groupby('loan_status')['Loan_ID'].count())"
   ]
  },
  {
   "cell_type": "markdown",
   "metadata": {},
   "source": [
    "#### Take Away:\n",
    "From the graph and table it's evident that maximum people have PAIDOFF loan status."
   ]
  },
  {
   "cell_type": "code",
   "execution_count": null,
   "metadata": {
    "collapsed": true
   },
   "outputs": [],
   "source": []
  },
  {
   "cell_type": "code",
   "execution_count": null,
   "metadata": {
    "collapsed": true
   },
   "outputs": [],
   "source": []
  },
  {
   "cell_type": "markdown",
   "metadata": {},
   "source": [
    "### 2. PRINCIPAL AMOUNT AND LOAN STATUS RELATION:\n",
    "* Principal : Basic principal loan amount at the origination\n",
    "\n"
   ]
  },
  {
   "cell_type": "code",
   "execution_count": 23,
   "metadata": {},
   "outputs": [
    {
     "data": {
      "image/png": "[encoded data removed]",
      "text/plain": [
       "<matplotlib.figure.Figure at 0x1f07b38e940>"
      ]
     },
     "metadata": {},
     "output_type": "display_data"
    }
   ],
   "source": [
    "plt.figure(figsize=(12, 10))\n",
    "\n",
    "ax = sns.countplot(x='Principal', hue = \"loan_status\", data = orig_data)\n",
    "plt.legend(title = \"LOAN_STATUS\",loc='upper left', fontsize='12')\n",
    "ax.set_title(\"LOAN STATUS AND PRINCIPAL RELATION\", size = 16)\n",
    "\n",
    "get_height(ax)"
   ]
  },
  {
   "cell_type": "code",
   "execution_count": 24,
   "metadata": {},
   "outputs": [
    {
     "data": {
      "text/html": [
       "<div>\n",
       "<style>\n",
       "    .dataframe thead tr:only-child th {\n",
       "        text-align: right;\n",
       "    }\n",
       "\n",
       "    .dataframe thead th {\n",
       "        text-align: left;\n",
       "    }\n",
       "\n",
       "    .dataframe tbody tr th {\n",
       "        vertical-align: top;\n",
       "    }\n",
       "</style>\n",
       "<table border=\"1\" class=\"dataframe\">\n",
       "  <thead>\n",
       "    <tr style=\"text-align: right;\">\n",
       "      <th>Principal</th>\n",
       "      <th>300</th>\n",
       "      <th>500</th>\n",
       "      <th>700</th>\n",
       "      <th>800</th>\n",
       "      <th>900</th>\n",
       "      <th>1000</th>\n",
       "      <th>All</th>\n",
       "    </tr>\n",
       "    <tr>\n",
       "      <th>loan_status</th>\n",
       "      <th></th>\n",
       "      <th></th>\n",
       "      <th></th>\n",
       "      <th></th>\n",
       "      <th></th>\n",
       "      <th></th>\n",
       "      <th></th>\n",
       "    </tr>\n",
       "  </thead>\n",
       "  <tbody>\n",
       "    <tr>\n",
       "      <th>COLLECTION</th>\n",
       "      <td>0</td>\n",
       "      <td>0</td>\n",
       "      <td>0</td>\n",
       "      <td>19</td>\n",
       "      <td>0</td>\n",
       "      <td>66</td>\n",
       "      <td>85</td>\n",
       "    </tr>\n",
       "    <tr>\n",
       "      <th>COLLECTION_PAIDOFF</th>\n",
       "      <td>0</td>\n",
       "      <td>1</td>\n",
       "      <td>0</td>\n",
       "      <td>17</td>\n",
       "      <td>0</td>\n",
       "      <td>67</td>\n",
       "      <td>85</td>\n",
       "    </tr>\n",
       "    <tr>\n",
       "      <th>PAIDOFF</th>\n",
       "      <td>6</td>\n",
       "      <td>2</td>\n",
       "      <td>1</td>\n",
       "      <td>67</td>\n",
       "      <td>2</td>\n",
       "      <td>206</td>\n",
       "      <td>284</td>\n",
       "    </tr>\n",
       "    <tr>\n",
       "      <th>All</th>\n",
       "      <td>6</td>\n",
       "      <td>3</td>\n",
       "      <td>1</td>\n",
       "      <td>103</td>\n",
       "      <td>2</td>\n",
       "      <td>339</td>\n",
       "      <td>454</td>\n",
       "    </tr>\n",
       "  </tbody>\n",
       "</table>\n",
       "</div>"
      ],
      "text/plain": [
       "Principal           300  500  700  800  900  1000  All\n",
       "loan_status                                           \n",
       "COLLECTION            0    0    0   19    0    66   85\n",
       "COLLECTION_PAIDOFF    0    1    0   17    0    67   85\n",
       "PAIDOFF               6    2    1   67    2   206  284\n",
       "All                   6    3    1  103    2   339  454"
      ]
     },
     "execution_count": 24,
     "metadata": {},
     "output_type": "execute_result"
    }
   ],
   "source": [
    "pd.crosstab(orig_data.loan_status, orig_data.Principal, margins=True)"
   ]
  },
  {
   "cell_type": "code",
   "execution_count": 25,
   "metadata": {},
   "outputs": [
    {
     "data": {
      "text/html": [
       "<div>\n",
       "<style>\n",
       "    .dataframe thead tr:only-child th {\n",
       "        text-align: right;\n",
       "    }\n",
       "\n",
       "    .dataframe thead th {\n",
       "        text-align: left;\n",
       "    }\n",
       "\n",
       "    .dataframe tbody tr th {\n",
       "        vertical-align: top;\n",
       "    }\n",
       "</style>\n",
       "<table border=\"1\" class=\"dataframe\">\n",
       "  <thead>\n",
       "    <tr style=\"text-align: right;\">\n",
       "      <th></th>\n",
       "      <th></th>\n",
       "      <th>Loan_ID</th>\n",
       "    </tr>\n",
       "    <tr>\n",
       "      <th>Principal</th>\n",
       "      <th>loan_status</th>\n",
       "      <th></th>\n",
       "    </tr>\n",
       "  </thead>\n",
       "  <tbody>\n",
       "    <tr>\n",
       "      <th>300</th>\n",
       "      <th>PAIDOFF</th>\n",
       "      <td>6</td>\n",
       "    </tr>\n",
       "    <tr>\n",
       "      <th rowspan=\"2\" valign=\"top\">500</th>\n",
       "      <th>COLLECTION_PAIDOFF</th>\n",
       "      <td>1</td>\n",
       "    </tr>\n",
       "    <tr>\n",
       "      <th>PAIDOFF</th>\n",
       "      <td>2</td>\n",
       "    </tr>\n",
       "    <tr>\n",
       "      <th>700</th>\n",
       "      <th>PAIDOFF</th>\n",
       "      <td>1</td>\n",
       "    </tr>\n",
       "    <tr>\n",
       "      <th rowspan=\"3\" valign=\"top\">800</th>\n",
       "      <th>COLLECTION</th>\n",
       "      <td>19</td>\n",
       "    </tr>\n",
       "    <tr>\n",
       "      <th>COLLECTION_PAIDOFF</th>\n",
       "      <td>17</td>\n",
       "    </tr>\n",
       "    <tr>\n",
       "      <th>PAIDOFF</th>\n",
       "      <td>67</td>\n",
       "    </tr>\n",
       "    <tr>\n",
       "      <th>900</th>\n",
       "      <th>PAIDOFF</th>\n",
       "      <td>2</td>\n",
       "    </tr>\n",
       "    <tr>\n",
       "      <th rowspan=\"3\" valign=\"top\">1000</th>\n",
       "      <th>COLLECTION</th>\n",
       "      <td>66</td>\n",
       "    </tr>\n",
       "    <tr>\n",
       "      <th>COLLECTION_PAIDOFF</th>\n",
       "      <td>67</td>\n",
       "    </tr>\n",
       "    <tr>\n",
       "      <th>PAIDOFF</th>\n",
       "      <td>206</td>\n",
       "    </tr>\n",
       "  </tbody>\n",
       "</table>\n",
       "</div>"
      ],
      "text/plain": [
       "                              Loan_ID\n",
       "Principal loan_status                \n",
       "300       PAIDOFF                   6\n",
       "500       COLLECTION_PAIDOFF        1\n",
       "          PAIDOFF                   2\n",
       "700       PAIDOFF                   1\n",
       "800       COLLECTION               19\n",
       "          COLLECTION_PAIDOFF       17\n",
       "          PAIDOFF                  67\n",
       "900       PAIDOFF                   2\n",
       "1000      COLLECTION               66\n",
       "          COLLECTION_PAIDOFF       67\n",
       "          PAIDOFF                 206"
      ]
     },
     "execution_count": 25,
     "metadata": {},
     "output_type": "execute_result"
    }
   ],
   "source": [
    "pd.DataFrame(orig_data.groupby(['Principal','loan_status'])['Loan_ID'].count())"
   ]
  },
  {
   "cell_type": "markdown",
   "metadata": {},
   "source": [
    "#### Take Away:\n",
    "From the graph and the table, it can be seen that majority have principal of 1000 with maximum people having PAIDOFF status on loan."
   ]
  },
  {
   "cell_type": "code",
   "execution_count": null,
   "metadata": {
    "collapsed": true
   },
   "outputs": [],
   "source": []
  },
  {
   "cell_type": "code",
   "execution_count": null,
   "metadata": {
    "collapsed": true
   },
   "outputs": [],
   "source": []
  },
  {
   "cell_type": "markdown",
   "metadata": {},
   "source": [
    "### 3. TERMS:\n",
    "* Terms are divided into 3 section depending on the number of days as weekly (7), biweekly (14), monthly (30).\n"
   ]
  },
  {
   "cell_type": "code",
   "execution_count": 26,
   "metadata": {},
   "outputs": [
    {
     "data": {
      "text/html": [
       "<div>\n",
       "<style>\n",
       "    .dataframe thead tr:only-child th {\n",
       "        text-align: right;\n",
       "    }\n",
       "\n",
       "    .dataframe thead th {\n",
       "        text-align: left;\n",
       "    }\n",
       "\n",
       "    .dataframe tbody tr th {\n",
       "        vertical-align: top;\n",
       "    }\n",
       "</style>\n",
       "<table border=\"1\" class=\"dataframe\">\n",
       "  <thead>\n",
       "    <tr style=\"text-align: right;\">\n",
       "      <th></th>\n",
       "      <th>Loan_ID</th>\n",
       "    </tr>\n",
       "    <tr>\n",
       "      <th>terms</th>\n",
       "      <th></th>\n",
       "    </tr>\n",
       "  </thead>\n",
       "  <tbody>\n",
       "    <tr>\n",
       "      <th>7</th>\n",
       "      <td>21</td>\n",
       "    </tr>\n",
       "    <tr>\n",
       "      <th>15</th>\n",
       "      <td>191</td>\n",
       "    </tr>\n",
       "    <tr>\n",
       "      <th>30</th>\n",
       "      <td>242</td>\n",
       "    </tr>\n",
       "  </tbody>\n",
       "</table>\n",
       "</div>"
      ],
      "text/plain": [
       "       Loan_ID\n",
       "terms         \n",
       "7           21\n",
       "15         191\n",
       "30         242"
      ]
     },
     "execution_count": 26,
     "metadata": {},
     "output_type": "execute_result"
    }
   ],
   "source": [
    "terms = pd.DataFrame(orig_data.groupby('terms')['Loan_ID'].count())\n",
    "terms"
   ]
  },
  {
   "cell_type": "code",
   "execution_count": 27,
   "metadata": {},
   "outputs": [
    {
     "data": {
      "image/png": "[encoded data removed]",
      "text/plain": [
       "<matplotlib.figure.Figure at 0x1f07b318cc0>"
      ]
     },
     "metadata": {},
     "output_type": "display_data"
    }
   ],
   "source": [
    "plt.figure(figsize=(12, 10))\n",
    "\n",
    "# Terms can be labelled as weekly (7), biweekly (14), monthly (30)\n",
    "mapTerms={7:'weekly', 15:'bi-weekly', 30: 'monthly'}\n",
    "# ax = sns.barplot(x='loan_status',y='terms',hue='terms',data=orig_data)\n",
    "ax = sns.countplot(hue='terms', x = \"loan_status\", data=orig_data)\n",
    "plt.legend(title =\"Terms\", labels=[mapTerms[l] for l in list(terms.index)], loc='upper left', fontsize='12')\n",
    "ax.set_title(\"LOAN STATUS AND TERMS RELATION\",size = 16)\n",
    "get_height(ax)"
   ]
  },
  {
   "cell_type": "code",
   "execution_count": 28,
   "metadata": {},
   "outputs": [
    {
     "name": "stdout",
     "output_type": "stream",
     "text": [
      "\u001b[31mPIE CHART FOR TERMS DISTRIBUTION\u001b[0m\n"
     ]
    },
    {
     "data": {
      "image/png": "[encoded data removed]",
      "text/plain": [
       "<matplotlib.figure.Figure at 0x1f07b47b978>"
      ]
     },
     "metadata": {},
     "output_type": "display_data"
    }
   ],
   "source": [
    "fig, ax = plt.subplots(figsize=(6,6))\n",
    "pos = np.arange(len(orig_data.terms.unique()))\n",
    "pie = ax.pie(terms, labels=[mapTerms[l] for l in list(terms.index)])\n",
    "print(colored(\"PIE CHART FOR TERMS DISTRIBUTION\", \"red\"))"
   ]
  },
  {
   "cell_type": "markdown",
   "metadata": {},
   "source": [
    "#### Take Away:\n",
    "* From the we can say that majority of people have loan on monthly payoff schedule.\n",
    "* The pichart gives more clear cut representation of term distribution"
   ]
  },
  {
   "cell_type": "code",
   "execution_count": null,
   "metadata": {
    "collapsed": true
   },
   "outputs": [],
   "source": []
  },
  {
   "cell_type": "code",
   "execution_count": null,
   "metadata": {
    "collapsed": true
   },
   "outputs": [],
   "source": []
  },
  {
   "cell_type": "markdown",
   "metadata": {},
   "source": [
    "### 4.  EFFECTIVE DATE, DUE DATE, PAID OFF TIME, PAST DUE DAYS\n",
    "* Effective_date: When the loan got originated and took effects\n",
    "* Due_date: Since it’s one-time payoff schedule, each loan has one single due date\n",
    "* Paidoff_time: The actual time a customer pays off the loan\n",
    "* Pastdue_days: How many days a loan has been past due"
   ]
  },
  {
   "cell_type": "code",
   "execution_count": 29,
   "metadata": {},
   "outputs": [
    {
     "data": {
      "image/png": "[encoded data removed]",
      "text/plain": [
       "<matplotlib.figure.Figure at 0x1f07b97dac8>"
      ]
     },
     "metadata": {},
     "output_type": "display_data"
    }
   ],
   "source": [
    "fig, axs = plt.subplots(1,2, figsize=(14, 7))\n",
    "ax1 = sns.countplot(orig_data['effective_date'], ax = axs[0])\n",
    "ax1.set_title(\"Analysis of count by effective date\", size = 12)\n",
    "get_height(ax1)\n",
    "\n",
    "ax2 = sns.countplot(orig_data['due_date'], ax = axs[1])\n",
    "ax2.set_title(\"Analysis of count by due date\",size = 12)\n",
    "loc, labels = plt.xticks()\n",
    "ax2.set_xticklabels(labels, rotation=90)\n",
    "get_height(ax2)\n"
   ]
  },
  {
   "cell_type": "code",
   "execution_count": 30,
   "metadata": {},
   "outputs": [
    {
     "data": {
      "image/png": "[encoded data removed]",
      "text/plain": [
       "<matplotlib.figure.Figure at 0x1f07b58e0f0>"
      ]
     },
     "metadata": {},
     "output_type": "display_data"
    }
   ],
   "source": [
    "fig, axs = plt.subplots(1, 2, figsize=(14, 7))\n",
    "ax3 = sns.countplot(orig_data['paid_off_time'], ax = axs[0])\n",
    "ax3.set_title(\"Analysis of count by paid_off_time\", size = 12)\n",
    "loc, labels = plt.xticks()\n",
    "ax3.set_xticklabels(labels, rotation=90)\n",
    "get_height(ax3)\n",
    "\n",
    "ax4 = sns.countplot(orig_data['past_due_days'], ax = axs[1])\n",
    "ax4.set_title(\"Analysis of count by past due days\",size = 12)\n",
    "loc, labels = plt.xticks()\n",
    "ax4.set_xticklabels(labels, rotation=90)\n",
    "get_height(ax4)"
   ]
  },
  {
   "cell_type": "markdown",
   "metadata": {},
   "source": [
    "### Take Away:\n",
    "These four attributes are related to date and time. "
   ]
  },
  {
   "cell_type": "code",
   "execution_count": null,
   "metadata": {
    "collapsed": true
   },
   "outputs": [],
   "source": []
  },
  {
   "cell_type": "code",
   "execution_count": null,
   "metadata": {
    "collapsed": true
   },
   "outputs": [],
   "source": []
  },
  {
   "cell_type": "markdown",
   "metadata": {},
   "source": [
    "### 5.  AGE, EDUCATION and GENDER\n",
    "* Age, education, gender : A customer’s basic demographic information"
   ]
  },
  {
   "cell_type": "markdown",
   "metadata": {},
   "source": [
    "#### AGE"
   ]
  },
  {
   "cell_type": "code",
   "execution_count": 31,
   "metadata": {},
   "outputs": [
    {
     "data": {
      "text/plain": [
       "<matplotlib.text.Text at 0x1f07b87b400>"
      ]
     },
     "execution_count": 31,
     "metadata": {},
     "output_type": "execute_result"
    },
    {
     "data": {
      "image/png": "[encoded data removed]",
      "text/plain": [
       "<matplotlib.figure.Figure at 0x1f07bbed390>"
      ]
     },
     "metadata": {},
     "output_type": "display_data"
    }
   ],
   "source": [
    "fig, ax = plt.subplots(figsize=(7,7))\n",
    "a = sns.barplot(x='age',y='loan_status',data=data)\n",
    "a.set_title(\"Age Distribution\", size = 16)\n"
   ]
  },
  {
   "cell_type": "code",
   "execution_count": 32,
   "metadata": {
    "collapsed": true
   },
   "outputs": [],
   "source": [
    "# pd.crosstab(orig_data.loan_status,orig_data.age , margins=True)"
   ]
  },
  {
   "cell_type": "markdown",
   "metadata": {},
   "source": [
    "#### GENDER"
   ]
  },
  {
   "cell_type": "code",
   "execution_count": 33,
   "metadata": {},
   "outputs": [
    {
     "data": {
      "image/png": "[encoded data removed]",
      "text/plain": [
       "<matplotlib.figure.Figure at 0x1f07b424a20>"
      ]
     },
     "metadata": {},
     "output_type": "display_data"
    }
   ],
   "source": [
    "b = sns.countplot(x='Gender',data=orig_data)\n",
    "b.set_title(\"Gender Distribution\", size = 16)\n",
    "get_height(b)"
   ]
  },
  {
   "cell_type": "code",
   "execution_count": 34,
   "metadata": {},
   "outputs": [
    {
     "data": {
      "text/html": [
       "<div>\n",
       "<style>\n",
       "    .dataframe thead tr:only-child th {\n",
       "        text-align: right;\n",
       "    }\n",
       "\n",
       "    .dataframe thead th {\n",
       "        text-align: left;\n",
       "    }\n",
       "\n",
       "    .dataframe tbody tr th {\n",
       "        vertical-align: top;\n",
       "    }\n",
       "</style>\n",
       "<table border=\"1\" class=\"dataframe\">\n",
       "  <thead>\n",
       "    <tr style=\"text-align: right;\">\n",
       "      <th>Gender</th>\n",
       "      <th>female</th>\n",
       "      <th>male</th>\n",
       "      <th>All</th>\n",
       "    </tr>\n",
       "    <tr>\n",
       "      <th>loan_status</th>\n",
       "      <th></th>\n",
       "      <th></th>\n",
       "      <th></th>\n",
       "    </tr>\n",
       "  </thead>\n",
       "  <tbody>\n",
       "    <tr>\n",
       "      <th>COLLECTION</th>\n",
       "      <td>9</td>\n",
       "      <td>76</td>\n",
       "      <td>85</td>\n",
       "    </tr>\n",
       "    <tr>\n",
       "      <th>COLLECTION_PAIDOFF</th>\n",
       "      <td>13</td>\n",
       "      <td>72</td>\n",
       "      <td>85</td>\n",
       "    </tr>\n",
       "    <tr>\n",
       "      <th>PAIDOFF</th>\n",
       "      <td>50</td>\n",
       "      <td>234</td>\n",
       "      <td>284</td>\n",
       "    </tr>\n",
       "    <tr>\n",
       "      <th>All</th>\n",
       "      <td>72</td>\n",
       "      <td>382</td>\n",
       "      <td>454</td>\n",
       "    </tr>\n",
       "  </tbody>\n",
       "</table>\n",
       "</div>"
      ],
      "text/plain": [
       "Gender              female  male  All\n",
       "loan_status                          \n",
       "COLLECTION               9    76   85\n",
       "COLLECTION_PAIDOFF      13    72   85\n",
       "PAIDOFF                 50   234  284\n",
       "All                     72   382  454"
      ]
     },
     "execution_count": 34,
     "metadata": {},
     "output_type": "execute_result"
    }
   ],
   "source": [
    "pd.crosstab(orig_data.loan_status,orig_data.Gender, margins=True)"
   ]
  },
  {
   "cell_type": "markdown",
   "metadata": {},
   "source": [
    "#### EDUCATION"
   ]
  },
  {
   "cell_type": "code",
   "execution_count": 35,
   "metadata": {},
   "outputs": [
    {
     "data": {
      "image/png": "[encoded data removed]",
      "text/plain": [
       "<matplotlib.figure.Figure at 0x1f07c5b5e10>"
      ]
     },
     "metadata": {},
     "output_type": "display_data"
    }
   ],
   "source": [
    "c = sns.countplot(x='education',data=orig_data)\n",
    "c.set_title(\"Education Distribution\", size =16)\n",
    "get_height(c)"
   ]
  },
  {
   "cell_type": "code",
   "execution_count": 36,
   "metadata": {},
   "outputs": [
    {
     "data": {
      "text/html": [
       "<div>\n",
       "<style>\n",
       "    .dataframe thead tr:only-child th {\n",
       "        text-align: right;\n",
       "    }\n",
       "\n",
       "    .dataframe thead th {\n",
       "        text-align: left;\n",
       "    }\n",
       "\n",
       "    .dataframe tbody tr th {\n",
       "        vertical-align: top;\n",
       "    }\n",
       "</style>\n",
       "<table border=\"1\" class=\"dataframe\">\n",
       "  <thead>\n",
       "    <tr style=\"text-align: right;\">\n",
       "      <th>education</th>\n",
       "      <th>Bechalor</th>\n",
       "      <th>High School or Below</th>\n",
       "      <th>Master or Above</th>\n",
       "      <th>college</th>\n",
       "      <th>All</th>\n",
       "    </tr>\n",
       "    <tr>\n",
       "      <th>loan_status</th>\n",
       "      <th></th>\n",
       "      <th></th>\n",
       "      <th></th>\n",
       "      <th></th>\n",
       "      <th></th>\n",
       "    </tr>\n",
       "  </thead>\n",
       "  <tbody>\n",
       "    <tr>\n",
       "      <th>COLLECTION</th>\n",
       "      <td>10</td>\n",
       "      <td>41</td>\n",
       "      <td>1</td>\n",
       "      <td>33</td>\n",
       "      <td>85</td>\n",
       "    </tr>\n",
       "    <tr>\n",
       "      <th>COLLECTION_PAIDOFF</th>\n",
       "      <td>13</td>\n",
       "      <td>30</td>\n",
       "      <td>0</td>\n",
       "      <td>42</td>\n",
       "      <td>85</td>\n",
       "    </tr>\n",
       "    <tr>\n",
       "      <th>PAIDOFF</th>\n",
       "      <td>37</td>\n",
       "      <td>117</td>\n",
       "      <td>3</td>\n",
       "      <td>127</td>\n",
       "      <td>284</td>\n",
       "    </tr>\n",
       "    <tr>\n",
       "      <th>All</th>\n",
       "      <td>60</td>\n",
       "      <td>188</td>\n",
       "      <td>4</td>\n",
       "      <td>202</td>\n",
       "      <td>454</td>\n",
       "    </tr>\n",
       "  </tbody>\n",
       "</table>\n",
       "</div>"
      ],
      "text/plain": [
       "education           Bechalor  High School or Below  Master or Above  college  \\\n",
       "loan_status                                                                    \n",
       "COLLECTION                10                    41                1       33   \n",
       "COLLECTION_PAIDOFF        13                    30                0       42   \n",
       "PAIDOFF                   37                   117                3      127   \n",
       "All                       60                   188                4      202   \n",
       "\n",
       "education           All  \n",
       "loan_status              \n",
       "COLLECTION           85  \n",
       "COLLECTION_PAIDOFF   85  \n",
       "PAIDOFF             284  \n",
       "All                 454  "
      ]
     },
     "execution_count": 36,
     "metadata": {},
     "output_type": "execute_result"
    }
   ],
   "source": [
    "pd.crosstab(orig_data.loan_status,orig_data.education, margins=True)"
   ]
  },
  {
   "cell_type": "markdown",
   "metadata": {},
   "source": [
    "### Take Away:\n",
    "* AGE: The age group is pretty well distributed from age 18 to 51\n",
    "* GENDER: Number of male is almost 5 times more than that of female\n",
    "* EDUCATION: Maximum of people are from college and high-school"
   ]
  },
  {
   "cell_type": "code",
   "execution_count": 37,
   "metadata": {
    "collapsed": true
   },
   "outputs": [],
   "source": [
    "# # ax1 = fig.add_subplot(111)\n",
    "# plt.plot( data.loan_status, data.age)\n",
    "# plt.plot(data.loan_status,data.education)\n",
    "\n"
   ]
  },
  {
   "cell_type": "markdown",
   "metadata": {},
   "source": [
    "#### EDUCATION DISTRIBUTION BASED ON GENDER"
   ]
  },
  {
   "cell_type": "code",
   "execution_count": 38,
   "metadata": {},
   "outputs": [
    {
     "data": {
      "text/plain": [
       "<matplotlib.text.Text at 0x1f07c290c50>"
      ]
     },
     "execution_count": 38,
     "metadata": {},
     "output_type": "execute_result"
    },
    {
     "data": {
      "image/png": "[encoded data removed]",
      "text/plain": [
       "<matplotlib.figure.Figure at 0x1f07c5df518>"
      ]
     },
     "metadata": {},
     "output_type": "display_data"
    }
   ],
   "source": [
    "c1 = sns.countplot(x='Gender', data=orig_data, hue='education')\n",
    "c1.set_title(\"EDUCATION DISTRIBUTION BASED ON GENDER\",size = 16)"
   ]
  },
  {
   "cell_type": "markdown",
   "metadata": {},
   "source": [
    "#### EDUCATION DISTRIBUTION BASED ON LOAN STATUS"
   ]
  },
  {
   "cell_type": "code",
   "execution_count": 39,
   "metadata": {},
   "outputs": [
    {
     "data": {
      "text/plain": [
       "<matplotlib.text.Text at 0x1f07c037b00>"
      ]
     },
     "execution_count": 39,
     "metadata": {},
     "output_type": "execute_result"
    },
    {
     "data": {
      "image/png": "[encoded data removed]",
      "text/plain": [
       "<matplotlib.figure.Figure at 0x1f07c2aaef0>"
      ]
     },
     "metadata": {},
     "output_type": "display_data"
    }
   ],
   "source": [
    "c2 = sns.countplot(x='loan_status', data=orig_data, hue='education')\n",
    "c2.set_title(\"EDUCATION DISTRIBUTION BASED ON LOAN STATUS\",size = 16)"
   ]
  },
  {
   "cell_type": "markdown",
   "metadata": {},
   "source": [
    "#### RELATION B/W LOAN_STATUS, GENDER and AGE"
   ]
  },
  {
   "cell_type": "code",
   "execution_count": 40,
   "metadata": {},
   "outputs": [
    {
     "data": {
      "text/plain": [
       "<matplotlib.text.Text at 0x1f07ca42438>"
      ]
     },
     "execution_count": 40,
     "metadata": {},
     "output_type": "execute_result"
    },
    {
     "data": {
      "image/png": "[encoded data removed]",
      "text/plain": [
       "<matplotlib.figure.Figure at 0x1f07bd73860>"
      ]
     },
     "metadata": {},
     "output_type": "display_data"
    }
   ],
   "source": [
    "fig, ax = plt.subplots(figsize=(7,7))\n",
    "ax = sns.barplot(hue = \"loan_status\", y = \"age\", x = \"Gender\", data=orig_data)\n",
    "ax.set_title(\"RELATION B/W LOAN_STATUS, GENDER and AGE\",size = 16)"
   ]
  },
  {
   "cell_type": "markdown",
   "metadata": {},
   "source": [
    "#### RELATION B/W LOAN_STATUS, AGE and EDUCATION"
   ]
  },
  {
   "cell_type": "code",
   "execution_count": 41,
   "metadata": {},
   "outputs": [
    {
     "data": {
      "text/plain": [
       "<matplotlib.text.Text at 0x1f07cb01cf8>"
      ]
     },
     "execution_count": 41,
     "metadata": {},
     "output_type": "execute_result"
    },
    {
     "data": {
      "image/png": "[encoded data removed]",
      "text/plain": [
       "<matplotlib.figure.Figure at 0x1f07b92e278>"
      ]
     },
     "metadata": {},
     "output_type": "display_data"
    }
   ],
   "source": [
    "fig, ax = plt.subplots(figsize=(7,7))\n",
    "ax = sns.barplot(hue = \"loan_status\", y = \"age\", x = \"education\", data=orig_data)\n",
    "ax.set_title(\"RELATION B/W LOAN_STATUS, AGE and EDUCATION\",size = 16)"
   ]
  },
  {
   "cell_type": "code",
   "execution_count": null,
   "metadata": {
    "collapsed": true
   },
   "outputs": [],
   "source": []
  },
  {
   "cell_type": "markdown",
   "metadata": {
    "collapsed": true
   },
   "source": [
    "### NOTE:\n",
    "At this point I'll like to prepare the data for testing by removing target variable i.e. loan_status from the dataframe under investigation.Making a heatmap hence forward will be wiser step."
   ]
  },
  {
   "cell_type": "code",
   "execution_count": 42,
   "metadata": {
    "collapsed": true
   },
   "outputs": [],
   "source": [
    "# CREATING FINAL DATA UNDER INVESTIGATION AND TARGET FOR PREDICTION\n",
    "\n",
    "# created here beacuse it was required for me to make heatmap which\n",
    "# I wanted to exmaine without involvement of target varaible.\n",
    "\n",
    "dui = data.drop(['loan_status'], axis = 1)\n",
    "target = data.loan_status"
   ]
  },
  {
   "cell_type": "markdown",
   "metadata": {
    "collapsed": true
   },
   "source": [
    "## HEATMAP\n",
    "* Preferable method to get correlation between all numeric attributes of the dataset.\n",
    "* Highly correlated columns often tend to add redundant feature nature.\n",
    "* To avoid over-fitting and get accurate results it is recommended to remove one of two highly correlated attributes/columns."
   ]
  },
  {
   "cell_type": "code",
   "execution_count": 43,
   "metadata": {},
   "outputs": [
    {
     "name": "stdout",
     "output_type": "stream",
     "text": [
      "HEATMAP\n"
     ]
    },
    {
     "data": {
      "image/png": "[encoded data removed]",
      "text/plain": [
       "<matplotlib.figure.Figure at 0x1f07cb5f860>"
      ]
     },
     "metadata": {},
     "output_type": "display_data"
    }
   ],
   "source": [
    "# HEATMAP VISUALIZARION (does multivarite data analysis)\n",
    "\n",
    "fig, ax = plt.subplots(figsize=(15,15))\n",
    "\n",
    "corr = dui.corr()\n",
    "heatmap = sns.heatmap(corr, annot=True, linewidths=.5,  ax=ax)\n",
    "\n",
    "loc, labels = plt.xticks()\n",
    "heatmap.set_xticklabels(labels, rotation=90)\n",
    "\n",
    "\n",
    "print(\"HEATMAP\")"
   ]
  },
  {
   "cell_type": "markdown",
   "metadata": {},
   "source": [
    "### Tale Away:\n",
    "*  ATTRIBUTES WITH HIGH CORRELATION:\n",
    "    * terms and Principal\n",
    "    * terms and due_date\n",
    "    * Loan_ID and past_due_days\n",
    "    * Principal and due_date\n",
    "    \n",
    "   "
   ]
  },
  {
   "cell_type": "markdown",
   "metadata": {
    "collapsed": true
   },
   "source": [
    "#### FINAL TAKE AWAY FROM VISUALIZING DATA AND MAINLY HEATMAP:\n",
    "* Highly correlated (negatively or positively) columns will be removed as ideally practiced beacuse it is in a sense, a redundancy in features of a dataset.\n",
    "* Also from above visualizations we also realize that paid_off_date seems to be not so important either. \n",
    " \n",
    "* After observing the above heatmap and keeping in mind the above point, the following features will be dropped/removed:\n",
    "    * Loan_ID\n",
    "    * terms\n",
    "    * due_date\n",
    "    * paid_off_date\n",
    "    * effective_date\n",
    "\n"
   ]
  },
  {
   "cell_type": "code",
   "execution_count": 44,
   "metadata": {
    "collapsed": true
   },
   "outputs": [],
   "source": [
    "data = dui.drop(['Loan_ID', 'terms', 'due_date', 'paid_off_date', 'effective_date'], axis=1)"
   ]
  },
  {
   "cell_type": "code",
   "execution_count": 45,
   "metadata": {},
   "outputs": [
    {
     "data": {
      "text/html": [
       "<div>\n",
       "<style>\n",
       "    .dataframe thead tr:only-child th {\n",
       "        text-align: right;\n",
       "    }\n",
       "\n",
       "    .dataframe thead th {\n",
       "        text-align: left;\n",
       "    }\n",
       "\n",
       "    .dataframe tbody tr th {\n",
       "        vertical-align: top;\n",
       "    }\n",
       "</style>\n",
       "<table border=\"1\" class=\"dataframe\">\n",
       "  <thead>\n",
       "    <tr style=\"text-align: right;\">\n",
       "      <th></th>\n",
       "      <th>Principal</th>\n",
       "      <th>past_due_days</th>\n",
       "      <th>age</th>\n",
       "      <th>education</th>\n",
       "      <th>Gender</th>\n",
       "    </tr>\n",
       "  </thead>\n",
       "  <tbody>\n",
       "    <tr>\n",
       "      <th>0</th>\n",
       "      <td>1000</td>\n",
       "      <td>86</td>\n",
       "      <td>45</td>\n",
       "      <td>1</td>\n",
       "      <td>1</td>\n",
       "    </tr>\n",
       "    <tr>\n",
       "      <th>1</th>\n",
       "      <td>1000</td>\n",
       "      <td>167</td>\n",
       "      <td>50</td>\n",
       "      <td>0</td>\n",
       "      <td>0</td>\n",
       "    </tr>\n",
       "    <tr>\n",
       "      <th>2</th>\n",
       "      <td>1000</td>\n",
       "      <td>166</td>\n",
       "      <td>33</td>\n",
       "      <td>0</td>\n",
       "      <td>0</td>\n",
       "    </tr>\n",
       "    <tr>\n",
       "      <th>3</th>\n",
       "      <td>1000</td>\n",
       "      <td>165</td>\n",
       "      <td>27</td>\n",
       "      <td>3</td>\n",
       "      <td>1</td>\n",
       "    </tr>\n",
       "    <tr>\n",
       "      <th>4</th>\n",
       "      <td>1000</td>\n",
       "      <td>164</td>\n",
       "      <td>28</td>\n",
       "      <td>3</td>\n",
       "      <td>0</td>\n",
       "    </tr>\n",
       "  </tbody>\n",
       "</table>\n",
       "</div>"
      ],
      "text/plain": [
       "   Principal  past_due_days  age  education  Gender\n",
       "0       1000             86   45          1       1\n",
       "1       1000            167   50          0       0\n",
       "2       1000            166   33          0       0\n",
       "3       1000            165   27          3       1\n",
       "4       1000            164   28          3       0"
      ]
     },
     "execution_count": 45,
     "metadata": {},
     "output_type": "execute_result"
    }
   ],
   "source": [
    "data.head()"
   ]
  },
  {
   "cell_type": "markdown",
   "metadata": {},
   "source": [
    "#### HEATMAP"
   ]
  },
  {
   "cell_type": "code",
   "execution_count": 46,
   "metadata": {},
   "outputs": [
    {
     "name": "stdout",
     "output_type": "stream",
     "text": [
      "HEATMAP Axes(0.125,0.125;0.62x0.755)\n"
     ]
    },
    {
     "data": {
      "image/png": "[encoded data removed]",
      "text/plain": [
       "<matplotlib.figure.Figure at 0x1f07d1f9c18>"
      ]
     },
     "metadata": {},
     "output_type": "display_data"
    }
   ],
   "source": [
    "fig, ax = plt.subplots(figsize=(7,7))\n",
    "\n",
    "corr = data.corr()\n",
    "heatmap = sns.heatmap(corr, annot=True, linewidths=.5,  ax=ax)\n",
    "\n",
    "loc, labels = plt.xticks()\n",
    "heatmap.set_xticklabels(labels, rotation=90)\n",
    "\n",
    "print(\"HEATMAP\", heatmap)"
   ]
  },
  {
   "cell_type": "markdown",
   "metadata": {},
   "source": [
    "### TAKE AWAY:\n",
    "* Since, after observing the heatmap at this stage no high correlation is noticed so I decided to go further with this dataset.\n",
    "* Since I already separated data_under_investigation and target earlier it will be used for prediction\n"
   ]
  },
  {
   "cell_type": "markdown",
   "metadata": {},
   "source": [
    "# PREDICTION TIME!!!\n",
    "* This section is going to be more of a text and try then learn kind of work route.\n",
    "* Almost enough algorithms or methods will be tried for classification of loan_status.\n",
    "* By the end a comparative study will help to know which is the best method"
   ]
  },
  {
   "cell_type": "markdown",
   "metadata": {},
   "source": [
    "### Defining Labels"
   ]
  },
  {
   "cell_type": "code",
   "execution_count": 47,
   "metadata": {},
   "outputs": [
    {
     "data": {
      "text/plain": [
       "array(['PAIDOFF', 'COLLECTION', 'COLLECTION_PAIDOFF'], dtype=object)"
      ]
     },
     "execution_count": 47,
     "metadata": {},
     "output_type": "execute_result"
    }
   ],
   "source": [
    "orig_data.loan_status.unique()"
   ]
  },
  {
   "cell_type": "code",
   "execution_count": 48,
   "metadata": {
    "collapsed": true
   },
   "outputs": [],
   "source": [
    "### Common need for all models\n",
    "labels = ['PAIDOFF', 'COLLECTION', 'COLLECTION_PAIDOFF']"
   ]
  },
  {
   "cell_type": "code",
   "execution_count": null,
   "metadata": {
    "collapsed": true
   },
   "outputs": [],
   "source": []
  },
  {
   "cell_type": "markdown",
   "metadata": {},
   "source": [
    "### HELPER FUNCTION TO CALCULATE CLASSIFICATION REPORT\n"
   ]
  },
  {
   "cell_type": "code",
   "execution_count": 49,
   "metadata": {
    "collapsed": true
   },
   "outputs": [],
   "source": [
    "def plot_classification_report(ytest, pred):\n",
    "    print(colored(\"CLASSIFICATION REPORT:\", \"green\", attrs=['bold','underline']))\n",
    "    print(classification_report(ytest, pred ,target_names=labels))"
   ]
  },
  {
   "cell_type": "markdown",
   "metadata": {},
   "source": [
    "### HELPER FUNCTION TO CALCULATE CONFUSION MATRIX \n"
   ]
  },
  {
   "cell_type": "code",
   "execution_count": 50,
   "metadata": {
    "collapsed": true
   },
   "outputs": [],
   "source": [
    "def plot_confusion_matrix(ytest, pred):\n",
    "    print(colored(\"CONFUSION MATRIX:\", \"green\", attrs=['bold','underline']))\n",
    "          \n",
    "    cm = confusion_matrix(y_true=ytest, y_pred=pred)\n",
    "          \n",
    "    for i in range(len(labels)):\n",
    "        class_name  = \"({}) : {}\".format(i, labels[i])\n",
    "        print(cm[i], class_name)\n",
    "    \n",
    "    class_numbers = [\" ({0})\".format(i) for i in range(len(labels))]\n",
    "    print(\"\".join(class_numbers))"
   ]
  },
  {
   "cell_type": "code",
   "execution_count": null,
   "metadata": {
    "collapsed": true
   },
   "outputs": [],
   "source": []
  },
  {
   "cell_type": "markdown",
   "metadata": {},
   "source": [
    "### Setting target and dataframe"
   ]
  },
  {
   "cell_type": "code",
   "execution_count": 51,
   "metadata": {
    "collapsed": true
   },
   "outputs": [],
   "source": [
    "x = data\n",
    "y = target"
   ]
  },
  {
   "cell_type": "code",
   "execution_count": 52,
   "metadata": {},
   "outputs": [
    {
     "data": {
      "text/html": [
       "<div>\n",
       "<style>\n",
       "    .dataframe thead tr:only-child th {\n",
       "        text-align: right;\n",
       "    }\n",
       "\n",
       "    .dataframe thead th {\n",
       "        text-align: left;\n",
       "    }\n",
       "\n",
       "    .dataframe tbody tr th {\n",
       "        vertical-align: top;\n",
       "    }\n",
       "</style>\n",
       "<table border=\"1\" class=\"dataframe\">\n",
       "  <thead>\n",
       "    <tr style=\"text-align: right;\">\n",
       "      <th></th>\n",
       "      <th>Principal</th>\n",
       "      <th>past_due_days</th>\n",
       "      <th>age</th>\n",
       "      <th>education</th>\n",
       "      <th>Gender</th>\n",
       "    </tr>\n",
       "  </thead>\n",
       "  <tbody>\n",
       "    <tr>\n",
       "      <th>0</th>\n",
       "      <td>1000</td>\n",
       "      <td>86</td>\n",
       "      <td>45</td>\n",
       "      <td>1</td>\n",
       "      <td>1</td>\n",
       "    </tr>\n",
       "    <tr>\n",
       "      <th>1</th>\n",
       "      <td>1000</td>\n",
       "      <td>167</td>\n",
       "      <td>50</td>\n",
       "      <td>0</td>\n",
       "      <td>0</td>\n",
       "    </tr>\n",
       "    <tr>\n",
       "      <th>2</th>\n",
       "      <td>1000</td>\n",
       "      <td>166</td>\n",
       "      <td>33</td>\n",
       "      <td>0</td>\n",
       "      <td>0</td>\n",
       "    </tr>\n",
       "    <tr>\n",
       "      <th>3</th>\n",
       "      <td>1000</td>\n",
       "      <td>165</td>\n",
       "      <td>27</td>\n",
       "      <td>3</td>\n",
       "      <td>1</td>\n",
       "    </tr>\n",
       "    <tr>\n",
       "      <th>4</th>\n",
       "      <td>1000</td>\n",
       "      <td>164</td>\n",
       "      <td>28</td>\n",
       "      <td>3</td>\n",
       "      <td>0</td>\n",
       "    </tr>\n",
       "  </tbody>\n",
       "</table>\n",
       "</div>"
      ],
      "text/plain": [
       "   Principal  past_due_days  age  education  Gender\n",
       "0       1000             86   45          1       1\n",
       "1       1000            167   50          0       0\n",
       "2       1000            166   33          0       0\n",
       "3       1000            165   27          3       1\n",
       "4       1000            164   28          3       0"
      ]
     },
     "execution_count": 52,
     "metadata": {},
     "output_type": "execute_result"
    }
   ],
   "source": [
    "x.head()"
   ]
  },
  {
   "cell_type": "code",
   "execution_count": 53,
   "metadata": {},
   "outputs": [
    {
     "data": {
      "text/plain": [
       "0    2\n",
       "1    2\n",
       "2    2\n",
       "3    2\n",
       "4    2\n",
       "Name: loan_status, dtype: int64"
      ]
     },
     "execution_count": 53,
     "metadata": {},
     "output_type": "execute_result"
    }
   ],
   "source": [
    "y.head()"
   ]
  },
  {
   "cell_type": "markdown",
   "metadata": {},
   "source": [
    "### TEST TRAIN SPLIT"
   ]
  },
  {
   "cell_type": "code",
   "execution_count": 54,
   "metadata": {
    "collapsed": true
   },
   "outputs": [],
   "source": [
    "xtrain, xtest, ytrain, ytest = train_test_split(x, y, test_size = 0.2, random_state=42)"
   ]
  },
  {
   "cell_type": "markdown",
   "metadata": {},
   "source": [
    "# PREDICTING LOAN_STATUS"
   ]
  },
  {
   "cell_type": "markdown",
   "metadata": {},
   "source": [
    "### Method 1: Decision Tree Classifier"
   ]
  },
  {
   "cell_type": "code",
   "execution_count": 55,
   "metadata": {},
   "outputs": [
    {
     "name": "stdout",
     "output_type": "stream",
     "text": [
      "\u001b[4m\u001b[1m\u001b[32mDECISION TREE CLASSIFIER RESULTS:\u001b[0m\n",
      "Score by classifier      : 96.70%\n",
      "Score by cross_val_score : 99.17% \n",
      "\n",
      "\u001b[4m\u001b[1m\u001b[32mCLASSIFICATION REPORT:\u001b[0m\n",
      "                    precision    recall  f1-score   support\n",
      "\n",
      "           PAIDOFF       0.86      0.92      0.89        13\n",
      "        COLLECTION       0.95      0.90      0.93        21\n",
      "COLLECTION_PAIDOFF       1.00      1.00      1.00        57\n",
      "\n",
      "       avg / total       0.97      0.97      0.97        91\n",
      "\n",
      "\u001b[4m\u001b[1m\u001b[32mCONFUSION MATRIX:\u001b[0m\n",
      "[12  1  0] (0) : PAIDOFF\n",
      "[ 2 19  0] (1) : COLLECTION\n",
      "[ 0  0 57] (2) : COLLECTION_PAIDOFF\n",
      " (0) (1) (2)\n"
     ]
    }
   ],
   "source": [
    "## CLASSIFICATION\n",
    "dtree = DecisionTreeClassifier(random_state= 42)\n",
    "dtree.fit(xtrain, ytrain)\n",
    "pred1 = dtree.predict(xtest)\n",
    "s1 = dtree.score(xtest, ytest)\n",
    "scores1 = cross_val_score(dtree, xtrain, ytrain, cv=10, scoring='accuracy') \n",
    "\n",
    "print(colored(\"DECISION TREE CLASSIFIER RESULTS:\", \"green\", attrs=['bold','underline']))\n",
    "print(\"Score by classifier      : {0:.2%}\".format(s1))              \n",
    "print(\"Score by cross_val_score : {0:.2%}\".format(scores1.mean()),\"\\n\")\n",
    "\n",
    "\n",
    "\n",
    "## CLASSIFICATION REPORT\n",
    "plot_classification_report(ytest, pred1)\n",
    "\n",
    "\n",
    "## CONFUSION MATRIX\n",
    "plot_confusion_matrix(ytest, pred1)\n",
    "\n"
   ]
  },
  {
   "cell_type": "code",
   "execution_count": null,
   "metadata": {
    "collapsed": true
   },
   "outputs": [],
   "source": []
  },
  {
   "cell_type": "code",
   "execution_count": null,
   "metadata": {
    "collapsed": true
   },
   "outputs": [],
   "source": []
  },
  {
   "cell_type": "markdown",
   "metadata": {
    "collapsed": true
   },
   "source": [
    "### Method 2: Random Forest Classifier"
   ]
  },
  {
   "cell_type": "code",
   "execution_count": 56,
   "metadata": {},
   "outputs": [
    {
     "name": "stdout",
     "output_type": "stream",
     "text": [
      "\u001b[4m\u001b[1m\u001b[32mDECISION TREE CLASSIFIER RESULTS:\u001b[0m\n",
      "Score by classifier      : 97.80%\n",
      "Score by cross_val_score : 98.07% \n",
      "\n",
      "\u001b[4m\u001b[1m\u001b[32mCLASSIFICATION REPORT:\u001b[0m\n",
      "                    precision    recall  f1-score   support\n",
      "\n",
      "           PAIDOFF       0.87      1.00      0.93        13\n",
      "        COLLECTION       1.00      0.90      0.95        21\n",
      "COLLECTION_PAIDOFF       1.00      1.00      1.00        57\n",
      "\n",
      "       avg / total       0.98      0.98      0.98        91\n",
      "\n",
      "\u001b[4m\u001b[1m\u001b[32mCONFUSION MATRIX:\u001b[0m\n",
      "[13  0  0] (0) : PAIDOFF\n",
      "[ 2 19  0] (1) : COLLECTION\n",
      "[ 0  0 57] (2) : COLLECTION_PAIDOFF\n",
      " (0) (1) (2)\n"
     ]
    }
   ],
   "source": [
    "## CLASSIFICATION\n",
    "rforest = RandomForestClassifier(random_state=42)\n",
    "rforest.fit(xtrain, ytrain)\n",
    "pred2 = rforest.predict(xtest)\n",
    "s2 = rforest.score(xtest, ytest)\n",
    "scores2 = cross_val_score(rforest, xtrain, ytrain, cv=10, scoring='accuracy') \n",
    "\n",
    "print(colored(\"DECISION TREE CLASSIFIER RESULTS:\", \"green\", attrs=['bold','underline']))\n",
    "print(\"Score by classifier      : {0:.2%}\".format(s2))              \n",
    "print(\"Score by cross_val_score : {0:.2%}\".format(scores2.mean()),\"\\n\")\n",
    "\n",
    "\n",
    "## CLASSIFICATION REPORT\n",
    "plot_classification_report(ytest, pred2)\n",
    "\n",
    "\n",
    "## CONFUSION MATRIX\n",
    "plot_confusion_matrix(ytest, pred2)\n"
   ]
  },
  {
   "cell_type": "code",
   "execution_count": null,
   "metadata": {
    "collapsed": true
   },
   "outputs": [],
   "source": []
  },
  {
   "cell_type": "code",
   "execution_count": null,
   "metadata": {
    "collapsed": true
   },
   "outputs": [],
   "source": []
  },
  {
   "cell_type": "markdown",
   "metadata": {},
   "source": [
    "### Method 3: K-Nearest Neighbours"
   ]
  },
  {
   "cell_type": "markdown",
   "metadata": {},
   "source": [
    "#### Trying to play about selection of K"
   ]
  },
  {
   "cell_type": "code",
   "execution_count": 57,
   "metadata": {
    "collapsed": true
   },
   "outputs": [],
   "source": [
    "neigh = [i for  i in range(3,25)]"
   ]
  },
  {
   "cell_type": "markdown",
   "metadata": {},
   "source": [
    "#### When accuracy is measures using cross_val_score"
   ]
  },
  {
   "cell_type": "code",
   "execution_count": 58,
   "metadata": {
    "collapsed": true
   },
   "outputs": [],
   "source": [
    "score = []\n",
    "for k in neigh:\n",
    "    knn = KNeighborsClassifier(n_neighbors=k)\n",
    "    knn.fit(xtrain, ytrain)\n",
    "    scores = cross_val_score(knn, xtrain, ytrain, cv=10, scoring='accuracy')  \n",
    "    score.append(scores.mean())\n",
    "\n",
    "# len(score)\n",
    "# len(neigh)"
   ]
  },
  {
   "cell_type": "code",
   "execution_count": 59,
   "metadata": {},
   "outputs": [
    {
     "data": {
      "image/png": "[encoded data removed]",
      "text/plain": [
       "<matplotlib.figure.Figure at 0x1f07cd05358>"
      ]
     },
     "metadata": {},
     "output_type": "display_data"
    }
   ],
   "source": [
    "plt.plot(neigh, score)\n",
    "plt.title(\"Variation of score with K\",size = 16)\n",
    "plt.xlabel('Number of Neighbors K')\n",
    "plt.ylabel('Score')\n",
    "plt.show()"
   ]
  },
  {
   "cell_type": "markdown",
   "metadata": {},
   "source": [
    "* Finding optimal value of K"
   ]
  },
  {
   "cell_type": "code",
   "execution_count": 60,
   "metadata": {},
   "outputs": [
    {
     "name": "stdout",
     "output_type": "stream",
     "text": [
      "Optimal Value of K:  5\n"
     ]
    }
   ],
   "source": [
    "error = [1 - x for x in score]\n",
    "optimal_k = neigh[error.index(min(error))]\n",
    "print(\"Optimal Value of K: \", optimal_k)"
   ]
  },
  {
   "cell_type": "markdown",
   "metadata": {},
   "source": [
    "#### When accuracy is measures using cross_val_score"
   ]
  },
  {
   "cell_type": "code",
   "execution_count": 61,
   "metadata": {
    "collapsed": true
   },
   "outputs": [],
   "source": [
    "sc = []\n",
    "for k in neigh:\n",
    "    knn = KNeighborsClassifier(n_neighbors=k)\n",
    "    knn.fit(xtrain, ytrain)\n",
    "    s = knn.score(xtest, ytest)\n",
    "    sc.append(s)\n",
    "\n",
    "# len(score)\n",
    "# len(neigh)"
   ]
  },
  {
   "cell_type": "code",
   "execution_count": 62,
   "metadata": {},
   "outputs": [
    {
     "data": {
      "image/png": "[encoded data removed]",
      "text/plain": [
       "<matplotlib.figure.Figure at 0x1f07cbfc048>"
      ]
     },
     "metadata": {},
     "output_type": "display_data"
    }
   ],
   "source": [
    "plt.plot(neigh, score)\n",
    "plt.title(\"Variation of score with K\", size = 16)\n",
    "plt.xlabel('Number of Neighbors K')\n",
    "plt.ylabel('Score')\n",
    "plt.show()"
   ]
  },
  {
   "cell_type": "markdown",
   "metadata": {},
   "source": [
    "* Finding optimal value of K"
   ]
  },
  {
   "cell_type": "code",
   "execution_count": 63,
   "metadata": {},
   "outputs": [
    {
     "name": "stdout",
     "output_type": "stream",
     "text": [
      "Optimal Value of K:  5\n"
     ]
    }
   ],
   "source": [
    "error = [1 - x for x in sc]\n",
    "optimal_k = neigh[error.index(min(error))]\n",
    "print(\"Optimal Value of K: \", optimal_k)"
   ]
  },
  {
   "cell_type": "markdown",
   "metadata": {},
   "source": [
    "#### Final optimal value of K = 5"
   ]
  },
  {
   "cell_type": "code",
   "execution_count": 64,
   "metadata": {},
   "outputs": [
    {
     "name": "stdout",
     "output_type": "stream",
     "text": [
      "\u001b[4m\u001b[1m\u001b[32mDECISION TREE CLASSIFIER RESULTS:\u001b[0m\n",
      "Score by classifier      : 96.70%\n",
      "Score by cross_val_score : 98.07% \n",
      "\n",
      "\u001b[4m\u001b[1m\u001b[32mCLASSIFICATION REPORT:\u001b[0m\n",
      "                    precision    recall  f1-score   support\n",
      "\n",
      "           PAIDOFF       0.87      1.00      0.93        13\n",
      "        COLLECTION       1.00      0.90      0.95        21\n",
      "COLLECTION_PAIDOFF       0.98      0.98      0.98        57\n",
      "\n",
      "       avg / total       0.97      0.97      0.97        91\n",
      "\n",
      "\u001b[4m\u001b[1m\u001b[32mCONFUSION MATRIX:\u001b[0m\n",
      "[13  0  0] (0) : PAIDOFF\n",
      "[ 1 19  1] (1) : COLLECTION\n",
      "[ 1  0 56] (2) : COLLECTION_PAIDOFF\n",
      " (0) (1) (2)\n"
     ]
    }
   ],
   "source": [
    "## CLASSIFICATION\n",
    "knn = KNeighborsClassifier(n_neighbors=5)\n",
    "knn.fit(xtrain, ytrain)\n",
    "pred3 = knn.predict(xtest)\n",
    "s3 = knn.score(xtest, ytest)\n",
    "scores3 = cross_val_score(rforest, xtrain, ytrain, cv=10, scoring='accuracy') \n",
    "\n",
    "print(colored(\"DECISION TREE CLASSIFIER RESULTS:\", \"green\", attrs=['bold','underline']))\n",
    "print(\"Score by classifier      : {0:.2%}\".format(s3))              \n",
    "print(\"Score by cross_val_score : {0:.2%}\".format(scores3.mean()),\"\\n\")\n",
    "\n",
    "\n",
    "## CLASSIFICATION REPORT\n",
    "plot_classification_report(ytest, pred3)\n",
    "\n",
    "\n",
    "## CONFUSION MATRIX\n",
    "plot_confusion_matrix(ytest, pred3)\n"
   ]
  },
  {
   "cell_type": "code",
   "execution_count": null,
   "metadata": {
    "collapsed": true
   },
   "outputs": [],
   "source": []
  },
  {
   "cell_type": "code",
   "execution_count": null,
   "metadata": {
    "collapsed": true
   },
   "outputs": [],
   "source": []
  },
  {
   "cell_type": "markdown",
   "metadata": {},
   "source": [
    "### Method 4: SVM Classifier (linear kernel)"
   ]
  },
  {
   "cell_type": "code",
   "execution_count": 65,
   "metadata": {
    "collapsed": true
   },
   "outputs": [],
   "source": [
    "c_val = np.array([0.5, 0.1, 1, 5, 10])"
   ]
  },
  {
   "cell_type": "code",
   "execution_count": 66,
   "metadata": {
    "collapsed": true
   },
   "outputs": [],
   "source": [
    "score = []\n",
    "for c in c_val:\n",
    "    svc_linear = SVC(kernel='linear', random_state= 42, C = c)\n",
    "    svc_linear.fit(xtrain, ytrain)\n",
    "    s = svc_linear.score(xtest, ytest)\n",
    "    score.append(s)\n",
    "    \n",
    "# len(score)  "
   ]
  },
  {
   "cell_type": "code",
   "execution_count": 67,
   "metadata": {},
   "outputs": [
    {
     "data": {
      "image/png": "[encoded data removed]",
      "text/plain": [
       "<matplotlib.figure.Figure at 0x1f07cbfd1d0>"
      ]
     },
     "metadata": {},
     "output_type": "display_data"
    }
   ],
   "source": [
    "plt.plot(c_val, score)\n",
    "plt.title(\"Variation of Score with C\", size = 16)\n",
    "plt.xlabel('Value of C')\n",
    "plt.ylabel('Score')\n",
    "plt.show()"
   ]
  },
  {
   "cell_type": "markdown",
   "metadata": {},
   "source": [
    "#### Take Away:\n",
    "From the above plot the closest value of C is to 1 the more the score.\n",
    "This chosing c = 0.1"
   ]
  },
  {
   "cell_type": "code",
   "execution_count": 68,
   "metadata": {},
   "outputs": [
    {
     "name": "stdout",
     "output_type": "stream",
     "text": [
      "\u001b[4m\u001b[1m\u001b[32mDECISION TREE CLASSIFIER RESULTS:\u001b[0m\n",
      "Score by classifier      : 98.90%\n",
      "Score by cross_val_score : 98.32% \n",
      "\n",
      "\u001b[4m\u001b[1m\u001b[32mCLASSIFICATION REPORT:\u001b[0m\n",
      "                    precision    recall  f1-score   support\n",
      "\n",
      "           PAIDOFF       0.93      1.00      0.96        13\n",
      "        COLLECTION       1.00      0.95      0.98        21\n",
      "COLLECTION_PAIDOFF       1.00      1.00      1.00        57\n",
      "\n",
      "       avg / total       0.99      0.99      0.99        91\n",
      "\n",
      "\u001b[4m\u001b[1m\u001b[32mCONFUSION MATRIX:\u001b[0m\n",
      "[13  0  0] (0) : PAIDOFF\n",
      "[ 1 20  0] (1) : COLLECTION\n",
      "[ 0  0 57] (2) : COLLECTION_PAIDOFF\n",
      " (0) (1) (2)\n"
     ]
    }
   ],
   "source": [
    "## CLASSIFICATION\n",
    "svcl = SVC(kernel='linear', C=0.1)\n",
    "svcl.fit(xtrain, ytrain)\n",
    "pred4 = svcl.predict(xtest)\n",
    "s4 = svcl.score(xtest, ytest)\n",
    "scores4 = cross_val_score(svcl, xtrain, ytrain, cv=10, scoring='accuracy') \n",
    "\n",
    "print(colored(\"DECISION TREE CLASSIFIER RESULTS:\", \"green\", attrs=['bold','underline']))\n",
    "print(\"Score by classifier      : {0:.2%}\".format(s4))              \n",
    "print(\"Score by cross_val_score : {0:.2%}\".format(scores4.mean()),\"\\n\")\n",
    "\n",
    "\n",
    "## CLASSIFICATION REPORT\n",
    "plot_classification_report(ytest, pred4)\n",
    "\n",
    "\n",
    "## CONFUSION MATRIX\n",
    "plot_confusion_matrix(ytest, pred4)\n"
   ]
  },
  {
   "cell_type": "code",
   "execution_count": null,
   "metadata": {
    "collapsed": true
   },
   "outputs": [],
   "source": []
  },
  {
   "cell_type": "code",
   "execution_count": null,
   "metadata": {
    "collapsed": true
   },
   "outputs": [],
   "source": []
  },
  {
   "cell_type": "markdown",
   "metadata": {},
   "source": [
    "### Method 5: SVM Classifier (rbf kernel)"
   ]
  },
  {
   "cell_type": "code",
   "execution_count": 69,
   "metadata": {
    "collapsed": true
   },
   "outputs": [],
   "source": [
    "clf_rbf = SVC(kernel='rbf', C=3)"
   ]
  },
  {
   "cell_type": "code",
   "execution_count": 70,
   "metadata": {
    "collapsed": true
   },
   "outputs": [],
   "source": [
    "c_val = np.array([0.5, 0.1, 1, 5, 10])"
   ]
  },
  {
   "cell_type": "code",
   "execution_count": 71,
   "metadata": {
    "collapsed": true
   },
   "outputs": [],
   "source": [
    "score = []\n",
    "for c in c_val:\n",
    "    svc_linear = SVC(kernel='rbf', random_state= 42, C = c)\n",
    "    svc_linear.fit(xtrain, ytrain)\n",
    "    s = svc_linear.score(xtest, ytest)\n",
    "    score.append(s)\n",
    "    \n",
    "# len(score)  "
   ]
  },
  {
   "cell_type": "code",
   "execution_count": 72,
   "metadata": {},
   "outputs": [
    {
     "data": {
      "image/png": "[encoded data removed]",
      "text/plain": [
       "<matplotlib.figure.Figure at 0x1f07d1b4eb8>"
      ]
     },
     "metadata": {},
     "output_type": "display_data"
    }
   ],
   "source": [
    "plt.plot(c_val, score)\n",
    "plt.title(\"Variation of Score with C\", size = 16)\n",
    "plt.xlabel('Value of C')\n",
    "plt.ylabel('Score')\n",
    "plt.show()"
   ]
  },
  {
   "cell_type": "markdown",
   "metadata": {},
   "source": [
    "#### Take Away:\n",
    "From the above plot a value of C nearest to 5 will yield a good score.Chosing c = 5"
   ]
  },
  {
   "cell_type": "code",
   "execution_count": 73,
   "metadata": {},
   "outputs": [
    {
     "name": "stdout",
     "output_type": "stream",
     "text": [
      "\u001b[4m\u001b[1m\u001b[32mDECISION TREE CLASSIFIER RESULTS:\u001b[0m\n",
      "Score by classifier      : 83.52%\n",
      "Score by cross_val_score : 89.51% \n",
      "\n",
      "\u001b[4m\u001b[1m\u001b[32mCLASSIFICATION REPORT:\u001b[0m\n",
      "                    precision    recall  f1-score   support\n",
      "\n",
      "           PAIDOFF       0.92      0.85      0.88        13\n",
      "        COLLECTION       1.00      0.38      0.55        21\n",
      "COLLECTION_PAIDOFF       0.80      1.00      0.89        57\n",
      "\n",
      "       avg / total       0.86      0.84      0.81        91\n",
      "\n",
      "\u001b[4m\u001b[1m\u001b[32mCONFUSION MATRIX:\u001b[0m\n",
      "[11  0  2] (0) : PAIDOFF\n",
      "[ 1  8 12] (1) : COLLECTION\n",
      "[ 0  0 57] (2) : COLLECTION_PAIDOFF\n",
      " (0) (1) (2)\n"
     ]
    }
   ],
   "source": [
    "## CLASSIFICATION\n",
    "svcr = SVC(kernel='rbf', C=5)\n",
    "svcr.fit(xtrain, ytrain)\n",
    "pred5 = svcr.predict(xtest)\n",
    "s5 = svcr.score(xtest, ytest)\n",
    "scores5 = cross_val_score(svcr, xtrain, ytrain, cv=10, scoring='accuracy') \n",
    "\n",
    "print(colored(\"DECISION TREE CLASSIFIER RESULTS:\", \"green\", attrs=['bold','underline']))\n",
    "print(\"Score by classifier      : {0:.2%}\".format(s5))              \n",
    "print(\"Score by cross_val_score : {0:.2%}\".format(scores5.mean()),\"\\n\")\n",
    "\n",
    "\n",
    "## CLASSIFICATION REPORT\n",
    "plot_classification_report(ytest, pred5)\n",
    "\n",
    "\n",
    "## CONFUSION MATRIX\n",
    "plot_confusion_matrix(ytest, pred5)\n"
   ]
  },
  {
   "cell_type": "code",
   "execution_count": null,
   "metadata": {
    "collapsed": true
   },
   "outputs": [],
   "source": []
  },
  {
   "cell_type": "code",
   "execution_count": null,
   "metadata": {
    "collapsed": true
   },
   "outputs": [],
   "source": []
  },
  {
   "cell_type": "markdown",
   "metadata": {},
   "source": [
    "### TABULATING THE OBSERVATIONS"
   ]
  },
  {
   "cell_type": "code",
   "execution_count": 74,
   "metadata": {},
   "outputs": [
    {
     "data": {
      "text/html": [
       "<div>\n",
       "<style>\n",
       "    .dataframe thead tr:only-child th {\n",
       "        text-align: right;\n",
       "    }\n",
       "\n",
       "    .dataframe thead th {\n",
       "        text-align: left;\n",
       "    }\n",
       "\n",
       "    .dataframe tbody tr th {\n",
       "        vertical-align: top;\n",
       "    }\n",
       "</style>\n",
       "<table border=\"1\" class=\"dataframe\">\n",
       "  <thead>\n",
       "    <tr style=\"text-align: right;\">\n",
       "      <th></th>\n",
       "      <th>Classifier_Score</th>\n",
       "      <th>Cross_val_Score</th>\n",
       "      <th>Model</th>\n",
       "    </tr>\n",
       "  </thead>\n",
       "  <tbody>\n",
       "    <tr>\n",
       "      <th>3</th>\n",
       "      <td>98.901099</td>\n",
       "      <td>98.316207</td>\n",
       "      <td>SVM_Linear</td>\n",
       "    </tr>\n",
       "    <tr>\n",
       "      <th>1</th>\n",
       "      <td>97.802198</td>\n",
       "      <td>98.068493</td>\n",
       "      <td>Random Forest</td>\n",
       "    </tr>\n",
       "    <tr>\n",
       "      <th>0</th>\n",
       "      <td>96.703297</td>\n",
       "      <td>99.165414</td>\n",
       "      <td>Decision Tree</td>\n",
       "    </tr>\n",
       "    <tr>\n",
       "      <th>2</th>\n",
       "      <td>96.703297</td>\n",
       "      <td>98.068493</td>\n",
       "      <td>K-Nearest</td>\n",
       "    </tr>\n",
       "    <tr>\n",
       "      <th>4</th>\n",
       "      <td>83.516484</td>\n",
       "      <td>89.509562</td>\n",
       "      <td>SVM_RBF</td>\n",
       "    </tr>\n",
       "  </tbody>\n",
       "</table>\n",
       "</div>"
      ],
      "text/plain": [
       "   Classifier_Score  Cross_val_Score          Model\n",
       "3         98.901099        98.316207     SVM_Linear\n",
       "1         97.802198        98.068493  Random Forest\n",
       "0         96.703297        99.165414  Decision Tree\n",
       "2         96.703297        98.068493      K-Nearest\n",
       "4         83.516484        89.509562        SVM_RBF"
      ]
     },
     "execution_count": 74,
     "metadata": {},
     "output_type": "execute_result"
    }
   ],
   "source": [
    "models = pd.DataFrame({\n",
    "        'Model'          : ['Decision Tree', 'Random Forest', 'K-Nearest', 'SVM_Linear', 'SVM_RBF'],\n",
    "        'Classifier_Score'  : [s1*100, s2*100, s3*100, s4*100, s5*100],\n",
    "        'Cross_val_Score'  : [scores1.mean()*100, scores2.mean()*100, scores3.mean()*100, scores4.mean()*100, scores5.mean()*100]\n",
    "    \n",
    "    })\n",
    "models.sort_values(by='Classifier_Score', ascending=False)"
   ]
  },
  {
   "cell_type": "markdown",
   "metadata": {
    "collapsed": true
   },
   "source": [
    "### FINAL TAKE AWAY!!!\n",
    "\n",
    "#### HIGHEST ACCURACY MODEL = SVM_LINEAR\n",
    "#### Classifier_score = 98.90 %\n",
    "\n",
    "#### HIGHEST ACCURACY MODEL WHEN CROSS_VAL_SCORE CONSIDERED = DECISION TREE\n",
    "#### Cross_val_score = 99.16 % \n",
    "\n",
    "As per the classifier score, SVM with linear kernel does the best job. Even it's confusion matrix shows how well it predicts the values."
   ]
  },
  {
   "cell_type": "code",
   "execution_count": 75,
   "metadata": {
    "collapsed": true
   },
   "outputs": [],
   "source": [
    "# model = Sequential()\n",
    "# model.add(Dense(64, input_dim=4, init='uniform', activation='relu'))\n",
    "# model.add(Dropout(0.5))\n",
    "# model.add(Dense(64, activation='relu'))\n",
    "# model.add(Dropout(0.5))\n",
    "# model.add(Dense(1, activation='sigmoid'))\n",
    "# model.compile(loss='binary_crossentropy', optimizer='rmsprop', metrics=['accuracy'])"
   ]
  },
  {
   "cell_type": "code",
   "execution_count": null,
   "metadata": {
    "collapsed": true
   },
   "outputs": [],
   "source": []
  }
 ],
 "metadata": {
  "kernelspec": {
   "display_name": "Python 3",
   "language": "python",
   "name": "python3"
  },
  "language_info": {
   "codemirror_mode": {
    "name": "ipython",
    "version": 3
   },
   "file_extension": ".py",
   "mimetype": "text/x-python",
   "name": "python",
   "nbconvert_exporter": "python",
   "pygments_lexer": "ipython3",
   "version": "3.6.1"
  }
 },
 "nbformat": 4,
 "nbformat_minor": 2
}
